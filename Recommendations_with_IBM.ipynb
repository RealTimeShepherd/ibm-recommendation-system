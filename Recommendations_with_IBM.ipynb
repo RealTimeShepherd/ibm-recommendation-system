{
 "cells": [
  {
   "cell_type": "markdown",
   "metadata": {},
   "source": [
    "# Recommendations with IBM\n",
    "\n",
    "In this notebook, you will be putting your recommendation skills to use on real data from the IBM Watson Studio platform. \n",
    "\n",
    "\n",
    "You may either submit your notebook through the workspace here, or you may work from your local machine and submit through the next page.  Either way assure that your code passes the project [RUBRIC](https://review.udacity.com/#!/rubrics/3325/view).  **Please save regularly.**\n",
    "\n",
    "By following the table of contents, you will build out a number of different methods for making recommendations that can be used for different situations. \n",
    "\n",
    "\n",
    "## Table of Contents\n",
    "\n",
    "I. [Exploratory Data Analysis](#Exploratory-Data-Analysis)<br>\n",
    "II. [Rank Based Recommendations](#Rank)<br>\n",
    "III. [User-User Based Collaborative Filtering](#User-User)<br>\n",
    "IV. [Content Based Recommendations (EXTRA - NOT REQUIRED)](#Content-Recs)<br>\n",
    "V. [Matrix Factorization](#Matrix-Fact)<br>\n",
    "VI. [Extras & Concluding](#conclusions)\n",
    "\n",
    "At the end of the notebook, you will find directions for how to submit your work.  Let's get started by importing the necessary libraries and reading in the data."
   ]
  },
  {
   "cell_type": "code",
   "execution_count": 1,
   "metadata": {
    "collapsed": true
   },
   "outputs": [
    {
     "data": {
      "text/html": [
       "<div>\n",
       "<style scoped>\n",
       "    .dataframe tbody tr th:only-of-type {\n",
       "        vertical-align: middle;\n",
       "    }\n",
       "\n",
       "    .dataframe tbody tr th {\n",
       "        vertical-align: top;\n",
       "    }\n",
       "\n",
       "    .dataframe thead th {\n",
       "        text-align: right;\n",
       "    }\n",
       "</style>\n",
       "<table border=\"1\" class=\"dataframe\">\n",
       "  <thead>\n",
       "    <tr style=\"text-align: right;\">\n",
       "      <th></th>\n",
       "      <th>article_id</th>\n",
       "      <th>title</th>\n",
       "      <th>email</th>\n",
       "    </tr>\n",
       "  </thead>\n",
       "  <tbody>\n",
       "    <tr>\n",
       "      <th>0</th>\n",
       "      <td>1430.0</td>\n",
       "      <td>using pixiedust for fast, flexible, and easier...</td>\n",
       "      <td>ef5f11f77ba020cd36e1105a00ab868bbdbf7fe7</td>\n",
       "    </tr>\n",
       "    <tr>\n",
       "      <th>1</th>\n",
       "      <td>1314.0</td>\n",
       "      <td>healthcare python streaming application demo</td>\n",
       "      <td>083cbdfa93c8444beaa4c5f5e0f5f9198e4f9e0b</td>\n",
       "    </tr>\n",
       "    <tr>\n",
       "      <th>2</th>\n",
       "      <td>1429.0</td>\n",
       "      <td>use deep learning for image classification</td>\n",
       "      <td>b96a4f2e92d8572034b1e9b28f9ac673765cd074</td>\n",
       "    </tr>\n",
       "    <tr>\n",
       "      <th>3</th>\n",
       "      <td>1338.0</td>\n",
       "      <td>ml optimization using cognitive assistant</td>\n",
       "      <td>06485706b34a5c9bf2a0ecdac41daf7e7654ceb7</td>\n",
       "    </tr>\n",
       "    <tr>\n",
       "      <th>4</th>\n",
       "      <td>1276.0</td>\n",
       "      <td>deploy your python model as a restful api</td>\n",
       "      <td>f01220c46fc92c6e6b161b1849de11faacd7ccb2</td>\n",
       "    </tr>\n",
       "  </tbody>\n",
       "</table>\n",
       "</div>"
      ],
      "text/plain": [
       "   article_id                                              title  \\\n",
       "0      1430.0  using pixiedust for fast, flexible, and easier...   \n",
       "1      1314.0       healthcare python streaming application demo   \n",
       "2      1429.0         use deep learning for image classification   \n",
       "3      1338.0          ml optimization using cognitive assistant   \n",
       "4      1276.0          deploy your python model as a restful api   \n",
       "\n",
       "                                      email  \n",
       "0  ef5f11f77ba020cd36e1105a00ab868bbdbf7fe7  \n",
       "1  083cbdfa93c8444beaa4c5f5e0f5f9198e4f9e0b  \n",
       "2  b96a4f2e92d8572034b1e9b28f9ac673765cd074  \n",
       "3  06485706b34a5c9bf2a0ecdac41daf7e7654ceb7  \n",
       "4  f01220c46fc92c6e6b161b1849de11faacd7ccb2  "
      ]
     },
     "execution_count": 1,
     "metadata": {},
     "output_type": "execute_result"
    }
   ],
   "source": [
    "import pandas as pd\n",
    "import numpy as np\n",
    "import matplotlib.pyplot as plt\n",
    "import project_tests as t\n",
    "import pickle\n",
    "\n",
    "%matplotlib inline\n",
    "\n",
    "df = pd.read_csv('data/user-item-interactions.csv')\n",
    "df_content = pd.read_csv('data/articles_community.csv')\n",
    "del df['Unnamed: 0']\n",
    "del df_content['Unnamed: 0']\n",
    "\n",
    "# Show df to get an idea of the data\n",
    "df.head()"
   ]
  },
  {
   "cell_type": "code",
   "execution_count": 2,
   "metadata": {
    "collapsed": true
   },
   "outputs": [
    {
     "data": {
      "text/html": [
       "<div>\n",
       "<style scoped>\n",
       "    .dataframe tbody tr th:only-of-type {\n",
       "        vertical-align: middle;\n",
       "    }\n",
       "\n",
       "    .dataframe tbody tr th {\n",
       "        vertical-align: top;\n",
       "    }\n",
       "\n",
       "    .dataframe thead th {\n",
       "        text-align: right;\n",
       "    }\n",
       "</style>\n",
       "<table border=\"1\" class=\"dataframe\">\n",
       "  <thead>\n",
       "    <tr style=\"text-align: right;\">\n",
       "      <th></th>\n",
       "      <th>doc_body</th>\n",
       "      <th>doc_description</th>\n",
       "      <th>doc_full_name</th>\n",
       "      <th>doc_status</th>\n",
       "      <th>article_id</th>\n",
       "    </tr>\n",
       "  </thead>\n",
       "  <tbody>\n",
       "    <tr>\n",
       "      <th>0</th>\n",
       "      <td>Skip navigation Sign in SearchLoading...\\r\\n\\r...</td>\n",
       "      <td>Detect bad readings in real time using Python ...</td>\n",
       "      <td>Detect Malfunctioning IoT Sensors with Streami...</td>\n",
       "      <td>Live</td>\n",
       "      <td>0</td>\n",
       "    </tr>\n",
       "    <tr>\n",
       "      <th>1</th>\n",
       "      <td>No Free Hunch Navigation * kaggle.com\\r\\n\\r\\n ...</td>\n",
       "      <td>See the forest, see the trees. Here lies the c...</td>\n",
       "      <td>Communicating data science: A guide to present...</td>\n",
       "      <td>Live</td>\n",
       "      <td>1</td>\n",
       "    </tr>\n",
       "    <tr>\n",
       "      <th>2</th>\n",
       "      <td>☰ * Login\\r\\n * Sign Up\\r\\n\\r\\n * Learning Pat...</td>\n",
       "      <td>Here’s this week’s news in Data Science and Bi...</td>\n",
       "      <td>This Week in Data Science (April 18, 2017)</td>\n",
       "      <td>Live</td>\n",
       "      <td>2</td>\n",
       "    </tr>\n",
       "    <tr>\n",
       "      <th>3</th>\n",
       "      <td>DATALAYER: HIGH THROUGHPUT, LOW LATENCY AT SCA...</td>\n",
       "      <td>Learn how distributed DBs solve the problem of...</td>\n",
       "      <td>DataLayer Conference: Boost the performance of...</td>\n",
       "      <td>Live</td>\n",
       "      <td>3</td>\n",
       "    </tr>\n",
       "    <tr>\n",
       "      <th>4</th>\n",
       "      <td>Skip navigation Sign in SearchLoading...\\r\\n\\r...</td>\n",
       "      <td>This video demonstrates the power of IBM DataS...</td>\n",
       "      <td>Analyze NY Restaurant data using Spark in DSX</td>\n",
       "      <td>Live</td>\n",
       "      <td>4</td>\n",
       "    </tr>\n",
       "  </tbody>\n",
       "</table>\n",
       "</div>"
      ],
      "text/plain": [
       "                                            doc_body  \\\n",
       "0  Skip navigation Sign in SearchLoading...\\r\\n\\r...   \n",
       "1  No Free Hunch Navigation * kaggle.com\\r\\n\\r\\n ...   \n",
       "2  ☰ * Login\\r\\n * Sign Up\\r\\n\\r\\n * Learning Pat...   \n",
       "3  DATALAYER: HIGH THROUGHPUT, LOW LATENCY AT SCA...   \n",
       "4  Skip navigation Sign in SearchLoading...\\r\\n\\r...   \n",
       "\n",
       "                                     doc_description  \\\n",
       "0  Detect bad readings in real time using Python ...   \n",
       "1  See the forest, see the trees. Here lies the c...   \n",
       "2  Here’s this week’s news in Data Science and Bi...   \n",
       "3  Learn how distributed DBs solve the problem of...   \n",
       "4  This video demonstrates the power of IBM DataS...   \n",
       "\n",
       "                                       doc_full_name doc_status  article_id  \n",
       "0  Detect Malfunctioning IoT Sensors with Streami...       Live           0  \n",
       "1  Communicating data science: A guide to present...       Live           1  \n",
       "2         This Week in Data Science (April 18, 2017)       Live           2  \n",
       "3  DataLayer Conference: Boost the performance of...       Live           3  \n",
       "4      Analyze NY Restaurant data using Spark in DSX       Live           4  "
      ]
     },
     "execution_count": 2,
     "metadata": {},
     "output_type": "execute_result"
    }
   ],
   "source": [
    "# Show df_content to get an idea of the data\n",
    "df_content.head()"
   ]
  },
  {
   "cell_type": "markdown",
   "metadata": {},
   "source": [
    "### <a class=\"anchor\" id=\"Exploratory-Data-Analysis\">Part I : Exploratory Data Analysis</a>\n",
    "\n",
    "Use the dictionary and cells below to provide some insight into the descriptive statistics of the data.\n",
    "\n",
    "`1.` What is the distribution of how many articles a user interacts with in the dataset?  Provide a visual and descriptive statistics to assist with giving a look at the number of times each user interacts with an article.  "
   ]
  },
  {
   "cell_type": "code",
   "execution_count": 3,
   "metadata": {
    "collapsed": true
   },
   "outputs": [
    {
     "data": {
      "image/png": "[encoded data removed]",
      "text/plain": [
       "<Figure size 640x480 with 1 Axes>"
      ]
     },
     "metadata": {},
     "output_type": "display_data"
    }
   ],
   "source": [
    "df_inters = df.groupby('email').count()\n",
    "df_inters.columns.values[0] = 'num_articles'\n",
    "df_counts = df_inters.groupby('num_articles').count()\n",
    "df_counts.columns.values[0] = 'num_users'\n",
    "df_counts = df_counts.reset_index()\n",
    "df_counts.plot(x='num_articles', y='num_users', kind='line')\n",
    "plt.show()"
   ]
  },
  {
   "cell_type": "code",
   "execution_count": 4,
   "metadata": {
    "collapsed": true
   },
   "outputs": [
    {
     "name": "stdout",
     "output_type": "stream",
     "text": [
      "3.0\n"
     ]
    }
   ],
   "source": [
    "print(df_inters['num_articles'].median())"
   ]
  },
  {
   "cell_type": "code",
   "execution_count": 5,
   "metadata": {
    "collapsed": true
   },
   "outputs": [],
   "source": [
    "# Fill in the median and maximum number of user_article interactios below\n",
    "\n",
    "median_val = df_inters['num_articles'].median() # 50% of individuals interact with ____ number of articles or fewer.\n",
    "max_views_by_user = df_counts['num_articles'].max(axis=0) # The maximum number of user-article interactions by any 1 user is ______."
   ]
  },
  {
   "cell_type": "markdown",
   "metadata": {},
   "source": [
    "`2.` Explore and remove duplicate articles from the **df_content** dataframe.  "
   ]
  },
  {
   "cell_type": "code",
   "execution_count": 6,
   "metadata": {
    "collapsed": true
   },
   "outputs": [
    {
     "name": "stdout",
     "output_type": "stream",
     "text": [
      "                                              doc_body  \\\n",
      "365  Follow Sign in / Sign up Home About Insight Da...   \n",
      "692  Homepage Follow Sign in / Sign up Homepage * H...   \n",
      "761  Homepage Follow Sign in Get started Homepage *...   \n",
      "970  This video shows you how to construct queries ...   \n",
      "971  Homepage Follow Sign in Get started * Home\\r\\n...   \n",
      "\n",
      "                                       doc_description  \\\n",
      "365  During the seven-week Insight Data Engineering...   \n",
      "692  One of the earliest documented catalogs was co...   \n",
      "761  Today’s world of data science leverages data f...   \n",
      "970  This video shows you how to construct queries ...   \n",
      "971  If you are like most data scientists, you are ...   \n",
      "\n",
      "                                         doc_full_name doc_status  article_id  \n",
      "365                       Graph-based machine learning       Live          50  \n",
      "692  How smart catalogs can turn the big data flood...       Live         221  \n",
      "761  Using Apache Spark as a parallel processing fr...       Live         398  \n",
      "970                              Use the Primary Index       Live         577  \n",
      "971  Self-service data preparation with IBM Data Re...       Live         232  \n"
     ]
    }
   ],
   "source": [
    "# Find and explore duplicate articles\n",
    "df_duplicates = df_content[df_content.duplicated(subset='article_id', keep='first')]\n",
    "print(df_duplicates)"
   ]
  },
  {
   "cell_type": "code",
   "execution_count": 7,
   "metadata": {
    "collapsed": true
   },
   "outputs": [
    {
     "name": "stdout",
     "output_type": "stream",
     "text": [
      "                                               doc_body  \\\n",
      "0     Skip navigation Sign in SearchLoading...\\r\\n\\r...   \n",
      "1     No Free Hunch Navigation * kaggle.com\\r\\n\\r\\n ...   \n",
      "2     ☰ * Login\\r\\n * Sign Up\\r\\n\\r\\n * Learning Pat...   \n",
      "3     DATALAYER: HIGH THROUGHPUT, LOW LATENCY AT SCA...   \n",
      "4     Skip navigation Sign in SearchLoading...\\r\\n\\r...   \n",
      "...                                                 ...   \n",
      "1051  PouchDB-find is a new API and syntax that allo...   \n",
      "1052  We compare discriminative and generative learn...   \n",
      "1053  Essays about data, building products and boots...   \n",
      "1054                                                NaN   \n",
      "1055  Homepage Follow Sign in / Sign up Homepage * H...   \n",
      "\n",
      "                                        doc_description  \\\n",
      "0     Detect bad readings in real time using Python ...   \n",
      "1     See the forest, see the trees. Here lies the c...   \n",
      "2     Here’s this week’s news in Data Science and Bi...   \n",
      "3     Learn how distributed DBs solve the problem of...   \n",
      "4     This video demonstrates the power of IBM DataS...   \n",
      "...                                                 ...   \n",
      "1051  PouchDB uses MapReduce as its default search m...   \n",
      "1052  We compare discriminative and generative learn...   \n",
      "1053  In order to demystify some of the magic behind...   \n",
      "1054  Learn how to use IBM dashDB as data store for ...   \n",
      "1055  Once you get used to developing in a Notebook ...   \n",
      "\n",
      "                                          doc_full_name doc_status  article_id  \n",
      "0     Detect Malfunctioning IoT Sensors with Streami...       Live           0  \n",
      "1     Communicating data science: A guide to present...       Live           1  \n",
      "2            This Week in Data Science (April 18, 2017)       Live           2  \n",
      "3     DataLayer Conference: Boost the performance of...       Live           3  \n",
      "4         Analyze NY Restaurant data using Spark in DSX       Live           4  \n",
      "...                                                 ...        ...         ...  \n",
      "1051            A look under the covers of PouchDB-find       Live        1046  \n",
      "1052  A comparison of logistic regression and naive ...       Live        1047  \n",
      "1053  What I Learned Implementing a Classifier from ...       Live        1048  \n",
      "1054                              Use dashDB with Spark       Live        1049  \n",
      "1055  Jupyter Notebooks with Scala, Python, or R Ker...       Live        1050  \n",
      "\n",
      "[1051 rows x 5 columns]\n"
     ]
    }
   ],
   "source": [
    "# Remove any rows that have the same article_id - only keep the first\n",
    "df_content_nd = df_content.drop_duplicates(subset='article_id', keep='first')\n",
    "print(df_content_nd)"
   ]
  },
  {
   "cell_type": "markdown",
   "metadata": {},
   "source": [
    "`3.` Use the cells below to find:\n",
    "\n",
    "**a.** The number of unique articles that have an interaction with a user.  \n",
    "**b.** The number of unique articles in the dataset (whether they have any interactions or not).<br>\n",
    "**c.** The number of unique users in the dataset. (excluding null values) <br>\n",
    "**d.** The number of user-article interactions in the dataset."
   ]
  },
  {
   "cell_type": "code",
   "execution_count": 8,
   "metadata": {
    "collapsed": true
   },
   "outputs": [
    {
     "name": "stdout",
     "output_type": "stream",
     "text": [
      "45993\n"
     ]
    }
   ],
   "source": [
    "print(df.shape[0])\n"
   ]
  },
  {
   "cell_type": "code",
   "execution_count": 9,
   "metadata": {
    "collapsed": true
   },
   "outputs": [],
   "source": [
    "unique_articles = df['article_id'].nunique() # The number of unique articles that have at least one interaction\n",
    "total_articles = df_content_nd.shape[0] # The number of unique articles on the IBM platform\n",
    "unique_users = df['email'].nunique() # The number of unique users\n",
    "user_article_interactions = df.shape[0] # The number of user-article interactions"
   ]
  },
  {
   "cell_type": "markdown",
   "metadata": {},
   "source": [
    "`4.` Use the cells below to find the most viewed **article_id**, as well as how often it was viewed.  After talking to the company leaders, the `email_mapper` function was deemed a reasonable way to map users to ids.  There were a small number of null values, and it was found that all of these null values likely belonged to a single user (which is how they are stored using the function below)."
   ]
  },
  {
   "cell_type": "code",
   "execution_count": 10,
   "metadata": {
    "collapsed": true
   },
   "outputs": [
    {
     "data": {
      "text/plain": [
       "'1429.0'"
      ]
     },
     "execution_count": 10,
     "metadata": {},
     "output_type": "execute_result"
    }
   ],
   "source": [
    "str(df.groupby('article_id').count().sort_values(by=['title'], ascending=False).reset_index().iloc[0]['article_id'])"
   ]
  },
  {
   "cell_type": "code",
   "execution_count": 11,
   "metadata": {
    "collapsed": true
   },
   "outputs": [],
   "source": [
    "most_viewed_article_id = str(df.groupby('article_id').count().sort_values(by=['title'], ascending=False).reset_index().iloc[0]['article_id']) # The most viewed article in the dataset as a string with one value following the decimal \n",
    "max_views = df.groupby('article_id').count().sort_values(by=['title'], ascending=False).iloc[0]['title'] # The most viewed article in the dataset was viewed how many times?"
   ]
  },
  {
   "cell_type": "code",
   "execution_count": 12,
   "metadata": {
    "collapsed": true
   },
   "outputs": [
    {
     "data": {
      "text/html": [
       "<div>\n",
       "<style scoped>\n",
       "    .dataframe tbody tr th:only-of-type {\n",
       "        vertical-align: middle;\n",
       "    }\n",
       "\n",
       "    .dataframe tbody tr th {\n",
       "        vertical-align: top;\n",
       "    }\n",
       "\n",
       "    .dataframe thead th {\n",
       "        text-align: right;\n",
       "    }\n",
       "</style>\n",
       "<table border=\"1\" class=\"dataframe\">\n",
       "  <thead>\n",
       "    <tr style=\"text-align: right;\">\n",
       "      <th></th>\n",
       "      <th>article_id</th>\n",
       "      <th>title</th>\n",
       "      <th>user_id</th>\n",
       "    </tr>\n",
       "  </thead>\n",
       "  <tbody>\n",
       "    <tr>\n",
       "      <th>0</th>\n",
       "      <td>1430.0</td>\n",
       "      <td>using pixiedust for fast, flexible, and easier...</td>\n",
       "      <td>1</td>\n",
       "    </tr>\n",
       "    <tr>\n",
       "      <th>1</th>\n",
       "      <td>1314.0</td>\n",
       "      <td>healthcare python streaming application demo</td>\n",
       "      <td>2</td>\n",
       "    </tr>\n",
       "    <tr>\n",
       "      <th>2</th>\n",
       "      <td>1429.0</td>\n",
       "      <td>use deep learning for image classification</td>\n",
       "      <td>3</td>\n",
       "    </tr>\n",
       "    <tr>\n",
       "      <th>3</th>\n",
       "      <td>1338.0</td>\n",
       "      <td>ml optimization using cognitive assistant</td>\n",
       "      <td>4</td>\n",
       "    </tr>\n",
       "    <tr>\n",
       "      <th>4</th>\n",
       "      <td>1276.0</td>\n",
       "      <td>deploy your python model as a restful api</td>\n",
       "      <td>5</td>\n",
       "    </tr>\n",
       "  </tbody>\n",
       "</table>\n",
       "</div>"
      ],
      "text/plain": [
       "   article_id                                              title  user_id\n",
       "0      1430.0  using pixiedust for fast, flexible, and easier...        1\n",
       "1      1314.0       healthcare python streaming application demo        2\n",
       "2      1429.0         use deep learning for image classification        3\n",
       "3      1338.0          ml optimization using cognitive assistant        4\n",
       "4      1276.0          deploy your python model as a restful api        5"
      ]
     },
     "execution_count": 12,
     "metadata": {},
     "output_type": "execute_result"
    }
   ],
   "source": [
    "## No need to change the code here - this will be helpful for later parts of the notebook\n",
    "# Run this cell to map the user email to a user_id column and remove the email column\n",
    "\n",
    "def email_mapper():\n",
    "    coded_dict = dict()\n",
    "    cter = 1\n",
    "    email_encoded = []\n",
    "    \n",
    "    for val in df['email']:\n",
    "        if val not in coded_dict:\n",
    "            coded_dict[val] = cter\n",
    "            cter+=1\n",
    "        \n",
    "        email_encoded.append(coded_dict[val])\n",
    "    return email_encoded\n",
    "\n",
    "email_encoded = email_mapper()\n",
    "del df['email']\n",
    "df['user_id'] = email_encoded\n",
    "\n",
    "# show header\n",
    "df.head()"
   ]
  },
  {
   "cell_type": "code",
   "execution_count": 13,
   "metadata": {
    "collapsed": true
   },
   "outputs": [
    {
     "name": "stdout",
     "output_type": "stream",
     "text": [
      "It looks like you have everything right here! Nice job!\n"
     ]
    }
   ],
   "source": [
    "## If you stored all your results in the variable names above, \n",
    "## you shouldn't need to change anything in this cell\n",
    "\n",
    "sol_1_dict = {\n",
    "    '`50% of individuals have _____ or fewer interactions.`': median_val,\n",
    "    '`The total number of user-article interactions in the dataset is ______.`': user_article_interactions,\n",
    "    '`The maximum number of user-article interactions by any 1 user is ______.`': max_views_by_user,\n",
    "    '`The most viewed article in the dataset was viewed _____ times.`': max_views,\n",
    "    '`The article_id of the most viewed article is ______.`': most_viewed_article_id,\n",
    "    '`The number of unique articles that have at least 1 rating ______.`': unique_articles,\n",
    "    '`The number of unique users in the dataset is ______`': unique_users,\n",
    "    '`The number of unique articles on the IBM platform`': total_articles\n",
    "}\n",
    "\n",
    "# Test your dictionary against the solution\n",
    "t.sol_1_test(sol_1_dict)"
   ]
  },
  {
   "cell_type": "markdown",
   "metadata": {},
   "source": [
    "### <a class=\"anchor\" id=\"Rank\">Part II: Rank-Based Recommendations</a>\n",
    "\n",
    "Unlike in the earlier lessons, we don't actually have ratings for whether a user liked an article or not.  We only know that a user has interacted with an article.  In these cases, the popularity of an article can really only be based on how often an article was interacted with.\n",
    "\n",
    "`1.` Fill in the function below to return the **n** top articles ordered with most interactions as the top. Test your function using the tests below."
   ]
  },
  {
   "cell_type": "code",
   "execution_count": 14,
   "metadata": {},
   "outputs": [
    {
     "name": "stdout",
     "output_type": "stream",
     "text": [
      "['use deep learning for image classification', 'insights from new york car accident reports', 'visualize car data with brunel', 'use xgboost, scikit-learn & ibm watson machine learning apis', 'predicting churn with the spss random tree algorithm', 'healthcare python streaming application demo', 'finding optimal locations of new store using decision optimization', 'apache spark lab, part 1: basic concepts', 'analyze energy consumption in buildings', 'gosales transactions for logistic regression model']\n"
     ]
    }
   ],
   "source": [
    "n = 10\n",
    "top_article_ids = df.groupby('article_id').count().sort_values(by=['title'], ascending=False).reset_index()['article_id'].head(n)\n",
    "df_dict = df.set_index('article_id')['title'].to_dict()\n",
    "print([df_dict[x] for x in top_article_ids])\n",
    "#"
   ]
  },
  {
   "cell_type": "code",
   "execution_count": 15,
   "metadata": {
    "collapsed": true
   },
   "outputs": [],
   "source": [
    "def get_top_articles(n, df=df):\n",
    "    '''\n",
    "    INPUT:\n",
    "    n - (int) the number of top articles to return\n",
    "    df - (pandas dataframe) df as defined at the top of the notebook \n",
    "    \n",
    "    OUTPUT:\n",
    "    top_articles - (list) A list of the top 'n' article titles \n",
    "    \n",
    "    '''\n",
    "    # Your code here\n",
    "    df_dict = df.set_index('article_id')['title'].to_dict()\n",
    "    top_article_ids = get_top_article_ids(n)\n",
    "    top_articles = [df_dict[x] for x in top_article_ids]\n",
    "\n",
    "    return top_articles # Return the top article titles from df (not df_content)\n",
    "\n",
    "def get_top_article_ids(n, df=df):\n",
    "    '''\n",
    "    INPUT:\n",
    "    n - (int) the number of top articles ids to return\n",
    "    df - (pandas dataframe) df as defined at the top of the notebook \n",
    "    \n",
    "    OUTPUT:\n",
    "    top_articles_ids - (list) A list of the top 'n' article ids \n",
    "    \n",
    "    '''\n",
    "    # Your code here\n",
    "    top_article_ids = df.groupby('article_id').count().sort_values(by=['title'], ascending=False).reset_index()['article_id'].head(n)\n",
    "\n",
    "    return top_article_ids # Return the top article ids"
   ]
  },
  {
   "cell_type": "code",
   "execution_count": 16,
   "metadata": {
    "collapsed": true
   },
   "outputs": [
    {
     "name": "stdout",
     "output_type": "stream",
     "text": [
      "['use deep learning for image classification', 'insights from new york car accident reports', 'visualize car data with brunel', 'use xgboost, scikit-learn & ibm watson machine learning apis', 'predicting churn with the spss random tree algorithm', 'healthcare python streaming application demo', 'finding optimal locations of new store using decision optimization', 'apache spark lab, part 1: basic concepts', 'analyze energy consumption in buildings', 'gosales transactions for logistic regression model']\n",
      "0    1429.0\n",
      "1    1330.0\n",
      "2    1431.0\n",
      "3    1427.0\n",
      "4    1364.0\n",
      "5    1314.0\n",
      "6    1293.0\n",
      "7    1170.0\n",
      "8    1162.0\n",
      "9    1304.0\n",
      "Name: article_id, dtype: float64\n"
     ]
    }
   ],
   "source": [
    "print(get_top_articles(10))\n",
    "print(get_top_article_ids(10))"
   ]
  },
  {
   "cell_type": "code",
   "execution_count": 17,
   "metadata": {
    "collapsed": true
   },
   "outputs": [
    {
     "name": "stdout",
     "output_type": "stream",
     "text": [
      "Your top_5 looks like the solution list! Nice job.\n",
      "Your top_10 looks like the solution list! Nice job.\n",
      "Your top_20 looks like the solution list! Nice job.\n"
     ]
    }
   ],
   "source": [
    "# Test your function by returning the top 5, 10, and 20 articles\n",
    "top_5 = get_top_articles(5)\n",
    "top_10 = get_top_articles(10)\n",
    "top_20 = get_top_articles(20)\n",
    "\n",
    "# Test each of your three lists from above\n",
    "t.sol_2_test(get_top_articles)"
   ]
  },
  {
   "cell_type": "markdown",
   "metadata": {},
   "source": [
    "### <a class=\"anchor\" id=\"User-User\">Part III: User-User Based Collaborative Filtering</a>\n",
    "\n",
    "\n",
    "`1.` Use the function below to reformat the **df** dataframe to be shaped with users as the rows and articles as the columns.  \n",
    "\n",
    "* Each **user** should only appear in each **row** once.\n",
    "\n",
    "\n",
    "* Each **article** should only show up in one **column**.  \n",
    "\n",
    "\n",
    "* **If a user has interacted with an article, then place a 1 where the user-row meets for that article-column**.  It does not matter how many times a user has interacted with the article, all entries where a user has interacted with an article should be a 1.  \n",
    "\n",
    "\n",
    "* **If a user has not interacted with an item, then place a zero where the user-row meets for that article-column**. \n",
    "\n",
    "Use the tests to make sure the basic structure of your matrix matches what is expected by the solution."
   ]
  },
  {
   "cell_type": "code",
   "execution_count": 24,
   "metadata": {},
   "outputs": [
    {
     "data": {
      "text/html": [
       "<div>\n",
       "<style scoped>\n",
       "    .dataframe tbody tr th:only-of-type {\n",
       "        vertical-align: middle;\n",
       "    }\n",
       "\n",
       "    .dataframe tbody tr th {\n",
       "        vertical-align: top;\n",
       "    }\n",
       "\n",
       "    .dataframe thead th {\n",
       "        text-align: right;\n",
       "    }\n",
       "</style>\n",
       "<table border=\"1\" class=\"dataframe\">\n",
       "  <thead>\n",
       "    <tr style=\"text-align: right;\">\n",
       "      <th>article_id</th>\n",
       "      <th>0.0</th>\n",
       "      <th>2.0</th>\n",
       "      <th>4.0</th>\n",
       "      <th>8.0</th>\n",
       "      <th>9.0</th>\n",
       "      <th>12.0</th>\n",
       "      <th>14.0</th>\n",
       "      <th>15.0</th>\n",
       "      <th>16.0</th>\n",
       "      <th>18.0</th>\n",
       "      <th>...</th>\n",
       "      <th>1434.0</th>\n",
       "      <th>1435.0</th>\n",
       "      <th>1436.0</th>\n",
       "      <th>1437.0</th>\n",
       "      <th>1439.0</th>\n",
       "      <th>1440.0</th>\n",
       "      <th>1441.0</th>\n",
       "      <th>1442.0</th>\n",
       "      <th>1443.0</th>\n",
       "      <th>1444.0</th>\n",
       "    </tr>\n",
       "    <tr>\n",
       "      <th>user_id</th>\n",
       "      <th></th>\n",
       "      <th></th>\n",
       "      <th></th>\n",
       "      <th></th>\n",
       "      <th></th>\n",
       "      <th></th>\n",
       "      <th></th>\n",
       "      <th></th>\n",
       "      <th></th>\n",
       "      <th></th>\n",
       "      <th></th>\n",
       "      <th></th>\n",
       "      <th></th>\n",
       "      <th></th>\n",
       "      <th></th>\n",
       "      <th></th>\n",
       "      <th></th>\n",
       "      <th></th>\n",
       "      <th></th>\n",
       "      <th></th>\n",
       "      <th></th>\n",
       "    </tr>\n",
       "  </thead>\n",
       "  <tbody>\n",
       "    <tr>\n",
       "      <th>1</th>\n",
       "      <td>0</td>\n",
       "      <td>0</td>\n",
       "      <td>0</td>\n",
       "      <td>0</td>\n",
       "      <td>0</td>\n",
       "      <td>0</td>\n",
       "      <td>0</td>\n",
       "      <td>0</td>\n",
       "      <td>0</td>\n",
       "      <td>0</td>\n",
       "      <td>...</td>\n",
       "      <td>0</td>\n",
       "      <td>0</td>\n",
       "      <td>1</td>\n",
       "      <td>0</td>\n",
       "      <td>1</td>\n",
       "      <td>0</td>\n",
       "      <td>0</td>\n",
       "      <td>0</td>\n",
       "      <td>0</td>\n",
       "      <td>0</td>\n",
       "    </tr>\n",
       "    <tr>\n",
       "      <th>2</th>\n",
       "      <td>0</td>\n",
       "      <td>0</td>\n",
       "      <td>0</td>\n",
       "      <td>0</td>\n",
       "      <td>0</td>\n",
       "      <td>0</td>\n",
       "      <td>0</td>\n",
       "      <td>0</td>\n",
       "      <td>0</td>\n",
       "      <td>0</td>\n",
       "      <td>...</td>\n",
       "      <td>0</td>\n",
       "      <td>0</td>\n",
       "      <td>0</td>\n",
       "      <td>0</td>\n",
       "      <td>0</td>\n",
       "      <td>0</td>\n",
       "      <td>0</td>\n",
       "      <td>0</td>\n",
       "      <td>0</td>\n",
       "      <td>0</td>\n",
       "    </tr>\n",
       "    <tr>\n",
       "      <th>3</th>\n",
       "      <td>0</td>\n",
       "      <td>0</td>\n",
       "      <td>0</td>\n",
       "      <td>0</td>\n",
       "      <td>0</td>\n",
       "      <td>1</td>\n",
       "      <td>0</td>\n",
       "      <td>0</td>\n",
       "      <td>0</td>\n",
       "      <td>0</td>\n",
       "      <td>...</td>\n",
       "      <td>0</td>\n",
       "      <td>0</td>\n",
       "      <td>1</td>\n",
       "      <td>0</td>\n",
       "      <td>0</td>\n",
       "      <td>0</td>\n",
       "      <td>0</td>\n",
       "      <td>0</td>\n",
       "      <td>0</td>\n",
       "      <td>0</td>\n",
       "    </tr>\n",
       "    <tr>\n",
       "      <th>4</th>\n",
       "      <td>0</td>\n",
       "      <td>0</td>\n",
       "      <td>0</td>\n",
       "      <td>0</td>\n",
       "      <td>0</td>\n",
       "      <td>0</td>\n",
       "      <td>0</td>\n",
       "      <td>0</td>\n",
       "      <td>0</td>\n",
       "      <td>0</td>\n",
       "      <td>...</td>\n",
       "      <td>0</td>\n",
       "      <td>0</td>\n",
       "      <td>0</td>\n",
       "      <td>0</td>\n",
       "      <td>0</td>\n",
       "      <td>0</td>\n",
       "      <td>0</td>\n",
       "      <td>0</td>\n",
       "      <td>0</td>\n",
       "      <td>0</td>\n",
       "    </tr>\n",
       "    <tr>\n",
       "      <th>5</th>\n",
       "      <td>0</td>\n",
       "      <td>0</td>\n",
       "      <td>0</td>\n",
       "      <td>0</td>\n",
       "      <td>0</td>\n",
       "      <td>0</td>\n",
       "      <td>0</td>\n",
       "      <td>0</td>\n",
       "      <td>0</td>\n",
       "      <td>0</td>\n",
       "      <td>...</td>\n",
       "      <td>0</td>\n",
       "      <td>0</td>\n",
       "      <td>0</td>\n",
       "      <td>0</td>\n",
       "      <td>0</td>\n",
       "      <td>0</td>\n",
       "      <td>0</td>\n",
       "      <td>0</td>\n",
       "      <td>0</td>\n",
       "      <td>0</td>\n",
       "    </tr>\n",
       "    <tr>\n",
       "      <th>...</th>\n",
       "      <td>...</td>\n",
       "      <td>...</td>\n",
       "      <td>...</td>\n",
       "      <td>...</td>\n",
       "      <td>...</td>\n",
       "      <td>...</td>\n",
       "      <td>...</td>\n",
       "      <td>...</td>\n",
       "      <td>...</td>\n",
       "      <td>...</td>\n",
       "      <td>...</td>\n",
       "      <td>...</td>\n",
       "      <td>...</td>\n",
       "      <td>...</td>\n",
       "      <td>...</td>\n",
       "      <td>...</td>\n",
       "      <td>...</td>\n",
       "      <td>...</td>\n",
       "      <td>...</td>\n",
       "      <td>...</td>\n",
       "      <td>...</td>\n",
       "    </tr>\n",
       "    <tr>\n",
       "      <th>5145</th>\n",
       "      <td>0</td>\n",
       "      <td>0</td>\n",
       "      <td>0</td>\n",
       "      <td>0</td>\n",
       "      <td>0</td>\n",
       "      <td>0</td>\n",
       "      <td>0</td>\n",
       "      <td>0</td>\n",
       "      <td>0</td>\n",
       "      <td>0</td>\n",
       "      <td>...</td>\n",
       "      <td>0</td>\n",
       "      <td>0</td>\n",
       "      <td>0</td>\n",
       "      <td>0</td>\n",
       "      <td>0</td>\n",
       "      <td>0</td>\n",
       "      <td>0</td>\n",
       "      <td>0</td>\n",
       "      <td>0</td>\n",
       "      <td>0</td>\n",
       "    </tr>\n",
       "    <tr>\n",
       "      <th>5146</th>\n",
       "      <td>0</td>\n",
       "      <td>0</td>\n",
       "      <td>0</td>\n",
       "      <td>0</td>\n",
       "      <td>0</td>\n",
       "      <td>0</td>\n",
       "      <td>0</td>\n",
       "      <td>0</td>\n",
       "      <td>0</td>\n",
       "      <td>0</td>\n",
       "      <td>...</td>\n",
       "      <td>0</td>\n",
       "      <td>0</td>\n",
       "      <td>0</td>\n",
       "      <td>0</td>\n",
       "      <td>0</td>\n",
       "      <td>0</td>\n",
       "      <td>0</td>\n",
       "      <td>0</td>\n",
       "      <td>0</td>\n",
       "      <td>0</td>\n",
       "    </tr>\n",
       "    <tr>\n",
       "      <th>5147</th>\n",
       "      <td>0</td>\n",
       "      <td>0</td>\n",
       "      <td>0</td>\n",
       "      <td>0</td>\n",
       "      <td>0</td>\n",
       "      <td>0</td>\n",
       "      <td>0</td>\n",
       "      <td>0</td>\n",
       "      <td>0</td>\n",
       "      <td>0</td>\n",
       "      <td>...</td>\n",
       "      <td>0</td>\n",
       "      <td>0</td>\n",
       "      <td>0</td>\n",
       "      <td>0</td>\n",
       "      <td>0</td>\n",
       "      <td>0</td>\n",
       "      <td>0</td>\n",
       "      <td>0</td>\n",
       "      <td>0</td>\n",
       "      <td>0</td>\n",
       "    </tr>\n",
       "    <tr>\n",
       "      <th>5148</th>\n",
       "      <td>0</td>\n",
       "      <td>0</td>\n",
       "      <td>0</td>\n",
       "      <td>0</td>\n",
       "      <td>0</td>\n",
       "      <td>0</td>\n",
       "      <td>0</td>\n",
       "      <td>0</td>\n",
       "      <td>0</td>\n",
       "      <td>0</td>\n",
       "      <td>...</td>\n",
       "      <td>0</td>\n",
       "      <td>0</td>\n",
       "      <td>0</td>\n",
       "      <td>0</td>\n",
       "      <td>0</td>\n",
       "      <td>0</td>\n",
       "      <td>0</td>\n",
       "      <td>0</td>\n",
       "      <td>0</td>\n",
       "      <td>0</td>\n",
       "    </tr>\n",
       "    <tr>\n",
       "      <th>5149</th>\n",
       "      <td>0</td>\n",
       "      <td>0</td>\n",
       "      <td>0</td>\n",
       "      <td>0</td>\n",
       "      <td>0</td>\n",
       "      <td>0</td>\n",
       "      <td>0</td>\n",
       "      <td>0</td>\n",
       "      <td>1</td>\n",
       "      <td>0</td>\n",
       "      <td>...</td>\n",
       "      <td>0</td>\n",
       "      <td>0</td>\n",
       "      <td>0</td>\n",
       "      <td>0</td>\n",
       "      <td>0</td>\n",
       "      <td>0</td>\n",
       "      <td>0</td>\n",
       "      <td>0</td>\n",
       "      <td>0</td>\n",
       "      <td>0</td>\n",
       "    </tr>\n",
       "  </tbody>\n",
       "</table>\n",
       "<p>5149 rows × 714 columns</p>\n",
       "</div>"
      ],
      "text/plain": [
       "article_id  0.0     2.0     4.0     8.0     9.0     12.0    14.0    15.0    \\\n",
       "user_id                                                                      \n",
       "1                0       0       0       0       0       0       0       0   \n",
       "2                0       0       0       0       0       0       0       0   \n",
       "3                0       0       0       0       0       1       0       0   \n",
       "4                0       0       0       0       0       0       0       0   \n",
       "5                0       0       0       0       0       0       0       0   \n",
       "...            ...     ...     ...     ...     ...     ...     ...     ...   \n",
       "5145             0       0       0       0       0       0       0       0   \n",
       "5146             0       0       0       0       0       0       0       0   \n",
       "5147             0       0       0       0       0       0       0       0   \n",
       "5148             0       0       0       0       0       0       0       0   \n",
       "5149             0       0       0       0       0       0       0       0   \n",
       "\n",
       "article_id  16.0    18.0    ...  1434.0  1435.0  1436.0  1437.0  1439.0  \\\n",
       "user_id                     ...                                           \n",
       "1                0       0  ...       0       0       1       0       1   \n",
       "2                0       0  ...       0       0       0       0       0   \n",
       "3                0       0  ...       0       0       1       0       0   \n",
       "4                0       0  ...       0       0       0       0       0   \n",
       "5                0       0  ...       0       0       0       0       0   \n",
       "...            ...     ...  ...     ...     ...     ...     ...     ...   \n",
       "5145             0       0  ...       0       0       0       0       0   \n",
       "5146             0       0  ...       0       0       0       0       0   \n",
       "5147             0       0  ...       0       0       0       0       0   \n",
       "5148             0       0  ...       0       0       0       0       0   \n",
       "5149             1       0  ...       0       0       0       0       0   \n",
       "\n",
       "article_id  1440.0  1441.0  1442.0  1443.0  1444.0  \n",
       "user_id                                             \n",
       "1                0       0       0       0       0  \n",
       "2                0       0       0       0       0  \n",
       "3                0       0       0       0       0  \n",
       "4                0       0       0       0       0  \n",
       "5                0       0       0       0       0  \n",
       "...            ...     ...     ...     ...     ...  \n",
       "5145             0       0       0       0       0  \n",
       "5146             0       0       0       0       0  \n",
       "5147             0       0       0       0       0  \n",
       "5148             0       0       0       0       0  \n",
       "5149             0       0       0       0       0  \n",
       "\n",
       "[5149 rows x 714 columns]"
      ]
     },
     "execution_count": 24,
     "metadata": {},
     "output_type": "execute_result"
    }
   ],
   "source": [
    "df_value = df.copy()\n",
    "df_value['value'] = 1\n",
    "u_i = pd.pivot_table(df_value, values='value', index='user_id', columns='article_id', fill_value=0)\n",
    "u_i\n",
    "#"
   ]
  },
  {
   "cell_type": "code",
   "execution_count": 25,
   "metadata": {
    "collapsed": true
   },
   "outputs": [],
   "source": [
    "# create the user-article matrix with 1's and 0's\n",
    "\n",
    "def create_user_item_matrix(df):\n",
    "    '''\n",
    "    INPUT:\n",
    "    df - pandas dataframe with article_id, title, user_id columns\n",
    "    \n",
    "    OUTPUT:\n",
    "    user_item - user item matrix \n",
    "    \n",
    "    Description:\n",
    "    Return a matrix with user ids as rows and article ids on the columns with 1 values where a user interacted with \n",
    "    an article and a 0 otherwise\n",
    "    '''\n",
    "    # Fill in the function here\n",
    "    df_value = df.copy()\n",
    "    df_value['value'] = 1\n",
    "    user_item = pd.pivot_table(df_value, values='value', index='user_id', columns='article_id', fill_value=0)\n",
    "\n",
    "    return user_item # return the user_item matrix \n",
    "\n",
    "user_item = create_user_item_matrix(df)"
   ]
  },
  {
   "cell_type": "code",
   "execution_count": 26,
   "metadata": {
    "collapsed": true
   },
   "outputs": [
    {
     "name": "stdout",
     "output_type": "stream",
     "text": [
      "You have passed our quick tests!  Please proceed!\n"
     ]
    }
   ],
   "source": [
    "## Tests: You should just need to run this cell.  Don't change the code.\n",
    "assert user_item.shape[0] == 5149, \"Oops!  The number of users in the user-article matrix doesn't look right.\"\n",
    "assert user_item.shape[1] == 714, \"Oops!  The number of articles in the user-article matrix doesn't look right.\"\n",
    "assert user_item.sum(axis=1)[1] == 36, \"Oops!  The number of articles seen by user 1 doesn't look right.\"\n",
    "print(\"You have passed our quick tests!  Please proceed!\")"
   ]
  },
  {
   "cell_type": "markdown",
   "metadata": {},
   "source": [
    "`2.` Complete the function below which should take a user_id and provide an ordered list of the most similar users to that user (from most similar to least similar).  The returned result should not contain the provided user_id, as we know that each user is similar to him/herself. Because the results for each user here are binary, it (perhaps) makes sense to compute similarity as the dot product of two users. \n",
    "\n",
    "Use the tests to test your function."
   ]
  },
  {
   "cell_type": "code",
   "execution_count": 62,
   "metadata": {},
   "outputs": [
    {
     "name": "stdout",
     "output_type": "stream",
     "text": [
      "[('Pele', 150), ('Ronaldo', 132), ('Messi', 125), ('Eusebio', 120), ('Cruyff', 104)]\n"
     ]
    }
   ],
   "source": [
    "footballers_goals = {'Eusebio': 120, 'Cruyff': 104, 'Pele': 150, 'Ronaldo': 132, 'Messi': 125}\n",
    "\n",
    "sorted_footballers_by_goals = sorted(footballers_goals.items(), key=lambda x:x[1], reverse=True)\n",
    "print(sorted_footballers_by_goals)"
   ]
  },
  {
   "cell_type": "code",
   "execution_count": 68,
   "metadata": {},
   "outputs": [
    {
     "name": "stdout",
     "output_type": "stream",
     "text": [
      "[1, 3933, 23, 3782, 203, 4459, 46, 131, 3870, 4201, 49, 395, 3697, 5041, 242, 322, 3622, 3910, 98, 290, 754, 2982, 3764, 4642, 21, 40, 52, 135, 256, 371, 912, 3540, 3596, 3621, 3637, 3784, 4785, 4932, 64, 184, 186, 204, 214, 249, 268, 273, 334, 488, 621, 696, 765, 1355, 1897, 3136, 3141, 3483, 3532, 3651, 3775, 4038, 4134, 4293, 4755, 4892, 5138, 10, 38, 54, 58, 60, 67, 72, 125, 187, 445, 619, 665, 2790, 2926, 3632, 3684, 3740, 3856, 4206, 4209, 4484, 4774, 4778, 4934, 5013, 5079, 5140, 3, 8, 28, 90, 111, 113, 170, 193, 223, 235, 244, 261, 263, 288, 324, 330, 362, 379, 409, 511, 656, 807, 1040, 2161, 2430, 2975, 2981, 3024, 3169, 3197, 3353, 3354, 3358, 3408, 3572, 3693, 3794, 3949, 4404, 4471, 4543, 4706, 4824, 4883, 4933, 11, 22, 24, 26, 45, 63, 65, 69, 82, 87, 88, 114, 126, 155, 168, 195, 211, 215, 251, 280, 295, 304, 312, 319, 365, 456, 471, 510, 535, 557, 558, 591, 598, 639, 640, 647, 689, 733, 750, 829, 907, 1059, 1062, 1163, 1244, 1271, 1330, 1353, 1567, 2423, 2908, 3006, 3057, 3100, 3118, 3172, 3237, 3264, 3305, 3329, 3441, 3485, 3500, 3523, 3535, 3578, 3589, 3636, 3818, 3829, 3879, 3898, 3943, 3966, 3967, 4021, 4037, 4082, 4088, 4130, 4167, 4225, 4231, 4248, 4277, 4453, 4495, 4502, 4515, 4517, 4526, 4595, 4697, 4725, 4788, 4802, 4900, 4901, 5023, 6, 9, 37, 55, 56, 57, 85, 122, 134, 136, 140, 145, 164, 181, 197, 213, 240, 253, 277, 296, 305, 321, 343, 347, 373, 383, 418, 420, 438, 490, 492, 512, 521, 536, 538, 542, 607, 641, 649, 659, 668, 669, 670, 688, 697, 700, 726, 745, 763, 794, 824, 828, 843, 860, 890, 896, 926, 927, 995, 1068, 1137, 1162, 1272, 1281, 1301, 1386, 1426, 1446, 1633, 1705, 2471, 2579, 2586, 2718, 2897, 2903, 3005, 3058, 3061, 3067, 3208, 3292, 3376, 3417, 3421, 3425, 3430, 3466, 3474, 3486, 3518, 3611, 3614, 3633, 3654, 3705, 3710, 3732, 3741, 3783, 3801, 3802, 3812, 3877, 3960, 3970, 3971, 4002, 4013, 4071, 4241, 4254, 4255, 4268, 4272, 4274, 4323, 4356, 4449, 4497, 4510, 4511, 4522, 4588, 4620, 4623, 4648, 4668, 4736, 4792, 4843, 4882, 4904, 5034, 5057, 5059, 5062, 5069, 5070, 5077, 5078, 5080, 5143, 4, 13, 35, 41, 44, 48, 74, 86, 89, 92, 94, 103, 107, 121, 129, 132, 133, 160, 163, 169, 182, 199, 200, 209, 225, 230, 241, 245, 260, 294, 310, 326, 332, 335, 346, 354, 359, 375, 475, 479, 487, 518, 555, 565, 596, 631, 648, 650, 674, 681, 687, 698, 707, 712, 722, 741, 757, 761, 785, 790, 798, 833, 845, 854, 866, 871, 884, 885, 889, 938, 1014, 1018, 1038, 1058, 1076, 1198, 1213, 1240, 1251, 1261, 1262, 1264, 1343, 1401, 1405, 1413, 1437, 1499, 1566, 1668, 1671, 1747, 1775, 1787, 2029, 2128, 2144, 2174, 2176, 2197, 2199, 2248, 2251, 2290, 2305, 2312, 2318, 2335, 2336, 2410, 2447, 2510, 2593, 2688, 2845, 2898, 2899, 2913, 2934, 2949, 2953, 2989, 2993, 3007, 3031, 3069, 3079, 3108, 3191, 3310, 3324, 3335, 3336, 3338, 3363, 3378, 3414, 3434, 3564, 3570, 3610, 3618, 3640, 3695, 3720, 3749, 3757, 3763, 3807, 3835, 3876, 3917, 3918, 3968, 3972, 4015, 4020, 4047, 4097, 4098, 4100, 4110, 4142, 4145, 4148, 4161, 4186, 4204, 4245, 4282, 4311, 4367, 4390, 4393, 4450, 4491, 4496, 4506, 4552, 4554, 4586, 4618, 4685, 4711, 4732, 4749, 4763, 4768, 4786, 4795, 4842, 4855, 4876, 4921, 4943, 4947, 4969, 5052, 5053, 5103, 5115, 5124, 5129, 2, 17, 33, 34, 42, 43, 51, 61, 66, 71, 76, 95, 110, 112, 120, 146, 149, 150, 151, 152, 153, 156, 159, 173, 176, 205, 219, 226, 227, 233, 239, 246, 248, 254, 262, 264, 266, 271, 272, 276, 285, 299, 302, 313, 315, 325, 327, 328, 329, 337, 345, 352, 370, 381, 396, 404, 410, 411, 413, 421, 422, 432, 437, 442, 450, 453, 469, 473, 482, 483, 484, 489, 498, 499, 500, 532, 533, 545, 547, 554, 560, 561, 570, 575, 576, 582, 583, 585, 600, 612, 635, 636, 638, 646, 651, 661, 662, 666, 685, 706, 714, 721, 723, 727, 730, 734, 736, 751, 752, 753, 755, 759, 760, 770, 773, 778, 791, 809, 810, 820, 840, 842, 849, 850, 851, 856, 863, 894, 895, 900, 919, 924, 925, 930, 931, 939, 953, 955, 970, 974, 977, 984, 987, 988, 996, 998, 1003, 1025, 1026, 1035, 1061, 1063, 1065, 1098, 1101, 1105, 1114, 1127, 1129, 1139, 1154, 1165, 1187, 1194, 1199, 1200, 1208, 1214, 1219, 1223, 1225, 1229, 1234, 1247, 1265, 1274, 1284, 1302, 1313, 1320, 1329, 1340, 1347, 1352, 1354, 1359, 1370, 1384, 1389, 1409, 1427, 1449, 1476, 1498, 1512, 1513, 1523, 1527, 1543, 1574, 1588, 1595, 1620, 1655, 1661, 1665, 1673, 1685, 1752, 1764, 1780, 1807, 1879, 1988, 1994, 2007, 2163, 2164, 2180, 2202, 2205, 2208, 2257, 2258, 2284, 2288, 2304, 2320, 2324, 2342, 2350, 2355, 2370, 2374, 2376, 2377, 2387, 2406, 2415, 2450, 2451, 2458, 2465, 2475, 2479, 2482, 2484, 2485, 2487, 2507, 2514, 2516, 2521, 2552, 2556, 2561, 2621, 2637, 2646, 2661, 2667, 2682, 2710, 2725, 2728, 2742, 2768, 2788, 2813, 2815, 2819, 2826, 2830, 2850, 2879, 2901, 2912, 2919, 2932, 2941, 2974, 2992, 2994, 3009, 3042, 3051, 3052, 3065, 3072, 3081, 3082, 3087, 3088, 3093, 3147, 3155, 3159, 3163, 3190, 3195, 3196, 3198, 3209, 3211, 3212, 3213, 3218, 3225, 3235, 3238, 3240, 3268, 3291, 3296, 3301, 3314, 3316, 3322, 3325, 3327, 3337, 3341, 3368, 3373, 3402, 3404, 3407, 3413, 3420, 3426, 3428, 3435, 3436, 3461, 3472, 3488, 3495, 3520, 3528, 3543, 3554, 3559, 3565, 3566, 3581, 3600, 3629, 3634, 3650, 3664, 3674, 3691, 3711, 3733, 3737, 3745, 3746, 3765, 3768, 3790, 3819, 3824, 3833, 3872, 3878, 3883, 3884, 3885, 3888, 3889, 3890, 3912, 3913, 3938, 3947, 3951, 3986, 3991, 4004, 4025, 4034, 4039, 4045, 4049, 4057, 4068, 4073, 4076, 4086, 4096, 4107, 4127, 4128, 4137, 4170, 4173, 4197, 4199, 4230, 4233, 4246, 4250, 4275, 4296, 4300, 4316, 4321, 4329, 4336, 4363, 4371, 4378, 4379, 4386, 4392, 4401, 4414, 4427, 4437, 4444, 4456, 4485, 4494, 4503, 4504, 4527, 4553, 4557, 4559, 4577, 4608, 4619, 4638, 4647, 4652, 4658, 4660, 4663, 4667, 4673, 4674, 4695, 4700, 4707, 4716, 4741, 4746, 4747, 4800, 4806, 4834, 4837, 4839, 4861, 4872, 4877, 4891, 4909, 4910, 4914, 4915, 4940, 4949, 4960, 4991, 4992, 4994, 4999, 5001, 5011, 5012, 5014, 5018, 5026, 5048, 5055, 5058, 5083, 7, 14, 15, 27, 30, 31, 32, 36, 59, 68, 75, 77, 79, 91, 99, 104, 105, 109, 115, 118, 139, 166, 171, 178, 180, 185, 189, 191, 194, 196, 201, 207, 208, 210, 212, 220, 222, 229, 231, 232, 243, 247, 258, 267, 269, 270, 274, 282, 284, 286, 287, 289, 291, 292, 297, 318, 323, 331, 333, 338, 339, 340, 348, 351, 353, 356, 357, 360, 363, 364, 372, 374, 377, 382, 387, 389, 392, 394, 397, 400, 405, 408, 414, 415, 419, 423, 426, 428, 431, 434, 436, 439, 444, 446, 452, 454, 455, 457, 460, 461, 464, 465, 466, 470, 472, 474, 476, 485, 494, 502, 504, 505, 508, 509, 513, 517, 524, 525, 527, 529, 530, 534, 537, 539, 540, 544, 548, 549, 550, 551, 562, 563, 566, 572, 578, 580, 587, 593, 594, 601, 605, 609, 610, 611, 613, 615, 617, 625, 637, 644, 652, 653, 654, 658, 664, 667, 671, 673, 675, 676, 677, 679, 683, 686, 690, 693, 702, 703, 709, 711, 715, 724, 728, 735, 737, 738, 742, 743, 744, 746, 758, 771, 780, 783, 786, 789, 792, 793, 796, 797, 804, 808, 812, 814, 821, 822, 825, 830, 832, 836, 841, 847, 852, 855, 857, 862, 864, 874, 875, 887, 892, 901, 902, 904, 905, 906, 913, 914, 916, 918, 921, 922, 928, 932, 942, 943, 946, 947, 948, 950, 951, 956, 957, 958, 960, 961, 962, 964, 966, 969, 972, 975, 978, 982, 983, 985, 986, 992, 1001, 1002, 1004, 1007, 1013, 1015, 1019, 1031, 1034, 1036, 1041, 1043, 1045, 1046, 1067, 1070, 1071, 1073, 1075, 1082, 1084, 1089, 1090, 1094, 1100, 1103, 1104, 1106, 1110, 1112, 1113, 1116, 1118, 1119, 1125, 1128, 1130, 1132, 1140, 1148, 1150, 1152, 1155, 1156, 1160, 1166, 1170, 1174, 1176, 1178, 1184, 1189, 1191, 1196, 1197, 1201, 1202, 1205, 1210, 1211, 1215, 1220, 1227, 1230, 1231, 1235, 1239, 1243, 1252, 1253, 1254, 1255, 1257, 1263, 1266, 1273, 1278, 1282, 1285, 1293, 1294, 1297, 1300, 1310, 1311, 1316, 1317, 1319, 1323, 1325, 1331, 1332, 1335, 1337, 1338, 1345, 1346, 1350, 1358, 1360, 1361, 1362, 1369, 1372, 1373, 1375, 1377, 1378, 1383, 1390, 1392, 1406, 1408, 1410, 1411, 1412, 1417, 1423, 1431, 1438, 1443, 1447, 1451, 1459, 1468, 1475, 1478, 1479, 1485, 1487, 1493, 1500, 1503, 1506, 1507, 1509, 1511, 1518, 1521, 1530, 1540, 1541, 1547, 1548, 1553, 1554, 1555, 1561, 1568, 1569, 1573, 1577, 1578, 1582, 1583, 1597, 1600, 1603, 1604, 1605, 1608, 1612, 1615, 1618, 1623, 1627, 1635, 1636, 1643, 1647, 1650, 1662, 1672, 1674, 1679, 1684, 1695, 1696, 1702, 1706, 1709, 1715, 1718, 1726, 1729, 1733, 1734, 1735, 1753, 1754, 1756, 1758, 1762, 1766, 1769, 1770, 1774, 1776, 1778, 1781, 1782, 1785, 1789, 1790, 1791, 1792, 1795, 1799, 1803, 1805, 1817, 1820, 1823, 1830, 1832, 1833, 1836, 1848, 1850, 1852, 1856, 1857, 1880, 1882, 1885, 1886, 1893, 1896, 1899, 1909, 1910, 1914, 1915, 1920, 1926, 1933, 1938, 1939, 1940, 1941, 1950, 1965, 1967, 1975, 1983, 1984, 1999, 2000, 2005, 2008, 2009, 2021, 2022, 2023, 2030, 2034, 2037, 2042, 2044, 2049, 2050, 2058, 2059, 2060, 2067, 2073, 2074, 2089, 2093, 2095, 2097, 2101, 2117, 2123, 2127, 2131, 2135, 2136, 2140, 2149, 2150, 2159, 2167, 2181, 2182, 2186, 2191, 2194, 2196, 2204, 2207, 2210, 2212, 2214, 2226, 2227, 2228, 2231, 2234, 2244, 2255, 2263, 2264, 2266, 2267, 2272, 2279, 2282, 2285, 2289, 2291, 2292, 2302, 2303, 2306, 2307, 2308, 2310, 2311, 2322, 2337, 2339, 2341, 2347, 2351, 2352, 2353, 2359, 2360, 2364, 2371, 2372, 2375, 2382, 2384, 2385, 2386, 2391, 2394, 2395, 2397, 2399, 2402, 2403, 2407, 2412, 2413, 2416, 2417, 2419, 2422, 2424, 2425, 2433, 2437, 2440, 2442, 2444, 2445, 2446, 2452, 2457, 2461, 2464, 2467, 2472, 2473, 2474, 2476, 2477, 2478, 2480, 2481, 2488, 2492, 2494, 2495, 2502, 2517, 2518, 2519, 2520, 2522, 2523, 2524, 2525, 2526, 2527, 2528, 2529, 2530, 2531, 2532, 2533, 2534, 2535, 2536, 2537, 2538, 2539, 2541, 2542, 2543, 2544, 2546, 2547, 2548, 2549, 2550, 2551, 2553, 2557, 2558, 2562, 2563, 2564, 2565, 2566, 2567, 2568, 2569, 2570, 2572, 2573, 2580, 2583, 2585, 2591, 2595, 2597, 2598, 2600, 2606, 2607, 2617, 2618, 2619, 2620, 2622, 2624, 2626, 2631, 2638, 2645, 2648, 2657, 2665, 2666, 2669, 2671, 2674, 2675, 2676, 2679, 2680, 2681, 2683, 2685, 2689, 2691, 2693, 2694, 2695, 2696, 2697, 2698, 2699, 2700, 2701, 2702, 2707, 2709, 2711, 2712, 2713, 2717, 2720, 2721, 2722, 2726, 2727, 2729, 2731, 2741, 2744, 2745, 2751, 2752, 2753, 2760, 2762, 2766, 2767, 2769, 2772, 2773, 2774, 2779, 2794, 2795, 2800, 2801, 2802, 2803, 2812, 2814, 2820, 2821, 2825, 2828, 2829, 2835, 2837, 2838, 2839, 2842, 2846, 2860, 2863, 2875, 2880, 2886, 2889, 2891, 2892, 2894, 2896, 2914, 2915, 2917, 2924, 2925, 2935, 2940, 2946, 2955, 2956, 2957, 2960, 2962, 2965, 2966, 2976, 2978, 2985, 2987, 2988, 2991, 3001, 3010, 3012, 3014, 3015, 3022, 3026, 3034, 3043, 3046, 3047, 3054, 3059, 3060, 3063, 3068, 3077, 3086, 3091, 3092, 3094, 3096, 3099, 3107, 3111, 3117, 3123, 3129, 3134, 3135, 3145, 3154, 3161, 3166, 3175, 3176, 3180, 3189, 3193, 3199, 3201, 3207, 3210, 3217, 3223, 3228, 3230, 3233, 3234, 3243, 3244, 3245, 3246, 3247, 3249, 3255, 3258, 3270, 3274, 3277, 3281, 3284, 3300, 3311, 3312, 3313, 3323, 3330, 3344, 3347, 3349, 3352, 3360, 3369, 3375, 3377, 3381, 3384, 3385, 3390, 3396, 3400, 3403, 3409, 3411, 3412, 3439, 3440, 3442, 3450, 3451, 3460, 3464, 3465, 3467, 3468, 3476, 3477, 3481, 3482, 3484, 3490, 3494, 3502, 3505, 3506, 3515, 3517, 3527, 3537, 3542, 3548, 3549, 3555, 3579, 3592, 3601, 3602, 3605, 3609, 3612, 3616, 3630, 3641, 3645, 3647, 3649, 3652, 3655, 3658, 3663, 3667, 3678, 3694, 3702, 3703, 3709, 3712, 3713, 3714, 3724, 3728, 3729, 3738, 3743, 3751, 3753, 3754, 3762, 3774, 3776, 3780, 3785, 3796, 3797, 3803, 3808, 3809, 3816, 3820, 3823, 3831, 3837, 3839, 3841, 3846, 3847, 3851, 3852, 3853, 3854, 3857, 3859, 3874, 3880, 3891, 3892, 3895, 3897, 3902, 3904, 3915, 3916, 3919, 3920, 3921, 3934, 3935, 3936, 3944, 3956, 3957, 3962, 3963, 3969, 3975, 3992, 3994, 3996, 4001, 4009, 4010, 4012, 4016, 4017, 4019, 4022, 4023, 4024, 4035, 4036, 4043, 4044, 4053, 4054, 4058, 4061, 4064, 4070, 4072, 4085, 4087, 4091, 4093, 4095, 4099, 4102, 4108, 4113, 4116, 4117, 4119, 4122, 4132, 4143, 4144, 4147, 4149, 4158, 4178, 4185, 4194, 4198, 4200, 4203, 4205, 4212, 4213, 4215, 4217, 4228, 4235, 4236, 4237, 4242, 4243, 4251, 4253, 4257, 4266, 4269, 4279, 4284, 4286, 4287, 4289, 4291, 4295, 4298, 4302, 4307, 4308, 4317, 4319, 4330, 4331, 4333, 4334, 4337, 4338, 4341, 4345, 4349, 4350, 4352, 4354, 4361, 4364, 4368, 4384, 4385, 4389, 4396, 4398, 4400, 4407, 4409, 4410, 4417, 4419, 4420, 4421, 4423, 4424, 4426, 4429, 4442, 4447, 4454, 4457, 4462, 4465, 4472, 4477, 4480, 4487, 4498, 4507, 4516, 4518, 4519, 4528, 4529, 4533, 4534, 4537, 4545, 4548, 4560, 4561, 4572, 4573, 4578, 4580, 4583, 4584, 4585, 4591, 4594, 4596, 4599, 4600, 4607, 4610, 4611, 4624, 4626, 4634, 4636, 4643, 4657, 4664, 4675, 4683, 4689, 4696, 4705, 4712, 4713, 4715, 4717, 4718, 4720, 4724, 4727, 4733, 4735, 4738, 4740, 4744, 4745, 4748, 4751, 4759, 4772, 4773, 4780, 4783, 4784, 4791, 4794, 4796, 4798, 4809, 4814, 4818, 4821, 4823, 4833, 4836, 4840, 4847, 4851, 4852, 4853, 4862, 4865, 4867, 4871, 4874, 4880, 4887, 4896, 4899, 4902, 4907, 4913, 4925, 4926, 4929, 4930, 4942, 4948, 4953, 4958, 4964, 4970, 4973, 4974, 4980, 4981, 4982, 4984, 4986, 4987, 4995, 5004, 5005, 5015, 5017, 5028, 5030, 5037, 5040, 5050, 5066, 5074, 5075, 5076, 5086, 5093, 5105, 5108, 5118, 5120, 5123, 5128, 5134, 5136, 5145, 5, 12, 16, 18, 19, 20, 25, 29, 39, 47, 50, 53, 62, 70, 73, 78, 80, 81, 83, 84, 93, 96, 97, 100, 101, 102, 106, 108, 116, 117, 119, 123, 124, 127, 128, 130, 137, 138, 141, 142, 143, 144, 147, 148, 154, 157, 158, 161, 162, 165, 167, 172, 174, 175, 177, 179, 183, 188, 190, 192, 198, 202, 206, 216, 217, 218, 221, 224, 228, 234, 236, 237, 238, 250, 252, 255, 257, 259, 265, 275, 278, 279, 281, 283, 293, 298, 300, 301, 303, 306, 307, 308, 309, 311, 314, 316, 317, 320, 336, 341, 342, 344, 349, 350, 355, 358, 361, 366, 367, 368, 369, 376, 378, 380, 384, 385, 386, 388, 390, 391, 393, 398, 399, 401, 402, 403, 406, 407, 412, 416, 417, 424, 425, 427, 429, 430, 433, 435, 440, 441, 443, 447, 448, 449, 451, 458, 459, 462, 463, 467, 468, 477, 478, 480, 481, 486, 491, 493, 495, 496, 497, 501, 503, 506, 507, 514, 515, 516, 519, 520, 522, 523, 526, 528, 531, 541, 543, 546, 552, 553, 556, 559, 564, 567, 568, 569, 571, 573, 574, 577, 579, 581, 584, 586, 588, 589, 590, 592, 595, 597, 599, 602, 603, 604, 606, 608, 614, 616, 618, 620, 622, 623, 624, 626, 627, 628, 629, 630, 632, 633, 634, 642, 643, 645, 655, 657, 660, 663, 672, 678, 680, 682, 684, 691, 692, 694, 695, 699, 701, 704, 705, 708, 710, 713, 716, 717, 718, 719, 720, 725, 729, 731, 732, 739, 740, 747, 748, 749, 756, 762, 764, 766, 767, 768, 769, 772, 774, 775, 776, 777, 779, 781, 782, 784, 787, 788, 795, 799, 800, 801, 802, 803, 805, 806, 811, 813, 815, 816, 817, 818, 819, 823, 826, 827, 831, 834, 835, 837, 838, 839, 844, 846, 848, 853, 858, 859, 861, 865, 867, 868, 869, 870, 872, 873, 876, 877, 878, 879, 880, 881, 882, 883, 886, 888, 891, 893, 897, 898, 899, 903, 908, 909, 910, 911, 915, 917, 920, 923, 929, 933, 934, 935, 936, 937, 940, 941, 944, 945, 949, 952, 954, 959, 963, 965, 967, 968, 971, 973, 976, 979, 980, 981, 989, 990, 991, 993, 994, 997, 999, 1000, 1005, 1006, 1008, 1009, 1010, 1011, 1012, 1016, 1017, 1020, 1021, 1022, 1023, 1024, 1027, 1028, 1029, 1030, 1032, 1033, 1037, 1039, 1042, 1044, 1047, 1048, 1049, 1050, 1051, 1052, 1053, 1054, 1055, 1056, 1057, 1060, 1064, 1066, 1069, 1072, 1074, 1077, 1078, 1079, 1080, 1081, 1083, 1085, 1086, 1087, 1088, 1091, 1092, 1093, 1095, 1096, 1097, 1099, 1102, 1107, 1108, 1109, 1111, 1115, 1117, 1120, 1121, 1122, 1123, 1124, 1126, 1131, 1133, 1134, 1135, 1136, 1138, 1141, 1142, 1143, 1144, 1145, 1146, 1147, 1149, 1151, 1153, 1157, 1158, 1159, 1161, 1164, 1167, 1168, 1169, 1171, 1172, 1173, 1175, 1177, 1179, 1180, 1181, 1182, 1183, 1185, 1186, 1188, 1190, 1192, 1193, 1195, 1203, 1204, 1206, 1207, 1209, 1212, 1216, 1217, 1218, 1221, 1222, 1224, 1226, 1228, 1232, 1233, 1236, 1237, 1238, 1241, 1242, 1245, 1246, 1248, 1249, 1250, 1256, 1258, 1259, 1260, 1267, 1268, 1269, 1270, 1275, 1276, 1277, 1279, 1280, 1283, 1286, 1287, 1288, 1289, 1290, 1291, 1292, 1295, 1296, 1298, 1299, 1303, 1304, 1305, 1306, 1307, 1308, 1309, 1312, 1314, 1315, 1318, 1321, 1322, 1324, 1326, 1327, 1328, 1333, 1334, 1336, 1339, 1341, 1342, 1344, 1348, 1349, 1351, 1356, 1357, 1363, 1364, 1365, 1366, 1367, 1368, 1371, 1374, 1376, 1379, 1380, 1381, 1382, 1385, 1387, 1388, 1391, 1393, 1394, 1395, 1396, 1397, 1398, 1399, 1400, 1402, 1403, 1404, 1407, 1414, 1415, 1416, 1418, 1419, 1420, 1421, 1422, 1424, 1425, 1428, 1429, 1430, 1432, 1433, 1434, 1435, 1436, 1439, 1440, 1441, 1442, 1444, 1445, 1448, 1450, 1452, 1453, 1454, 1455, 1456, 1457, 1458, 1460, 1461, 1462, 1463, 1464, 1465, 1466, 1467, 1469, 1470, 1471, 1472, 1473, 1474, 1477, 1480, 1481, 1482, 1483, 1484, 1486, 1488, 1489, 1490, 1491, 1492, 1494, 1495, 1496, 1497, 1501, 1502, 1504, 1505, 1508, 1510, 1514, 1515, 1516, 1517, 1519, 1520, 1522, 1524, 1525, 1526, 1528, 1529, 1531, 1532, 1533, 1534, 1535, 1536, 1537, 1538, 1539, 1542, 1544, 1545, 1546, 1549, 1550, 1551, 1552, 1556, 1557, 1558, 1559, 1560, 1562, 1563, 1564, 1565, 1570, 1571, 1572, 1575, 1576, 1579, 1580, 1581, 1584, 1585, 1586, 1587, 1589, 1590, 1591, 1592, 1593, 1594, 1596, 1598, 1599, 1601, 1602, 1606, 1607, 1609, 1610, 1611, 1613, 1614, 1616, 1617, 1619, 1621, 1622, 1624, 1625, 1626, 1628, 1629, 1630, 1631, 1632, 1634, 1637, 1638, 1639, 1640, 1641, 1642, 1644, 1645, 1646, 1648, 1649, 1651, 1652, 1653, 1654, 1656, 1657, 1658, 1659, 1660, 1663, 1664, 1666, 1667, 1669, 1670, 1675, 1676, 1677, 1678, 1680, 1681, 1682, 1683, 1686, 1687, 1688, 1689, 1690, 1691, 1692, 1693, 1694, 1697, 1698, 1699, 1700, 1701, 1703, 1704, 1707, 1708, 1710, 1711, 1712, 1713, 1714, 1716, 1717, 1719, 1720, 1721, 1722, 1723, 1724, 1725, 1727, 1728, 1730, 1731, 1732, 1736, 1737, 1738, 1739, 1740, 1741, 1742, 1743, 1744, 1745, 1746, 1748, 1749, 1750, 1751, 1755, 1757, 1759, 1760, 1761, 1763, 1765, 1767, 1768, 1771, 1772, 1773, 1777, 1779, 1783, 1784, 1786, 1788, 1793, 1794, 1796, 1797, 1798, 1800, 1801, 1802, 1804, 1806, 1808, 1809, 1810, 1811, 1812, 1813, 1814, 1815, 1816, 1818, 1819, 1821, 1822, 1824, 1825, 1826, 1827, 1828, 1829, 1831, 1834, 1835, 1837, 1838, 1839, 1840, 1841, 1842, 1843, 1844, 1845, 1846, 1847, 1849, 1851, 1853, 1854, 1855, 1858, 1859, 1860, 1861, 1862, 1863, 1864, 1865, 1866, 1867, 1868, 1869, 1870, 1871, 1872, 1873, 1874, 1875, 1876, 1877, 1878, 1881, 1883, 1884, 1887, 1888, 1889, 1890, 1891, 1892, 1894, 1895, 1898, 1900, 1901, 1902, 1903, 1904, 1905, 1906, 1907, 1908, 1911, 1912, 1913, 1916, 1917, 1918, 1919, 1921, 1922, 1923, 1924, 1925, 1927, 1928, 1929, 1930, 1931, 1932, 1934, 1935, 1936, 1937, 1942, 1943, 1944, 1945, 1946, 1947, 1948, 1949, 1951, 1952, 1953, 1954, 1955, 1956, 1957, 1958, 1959, 1960, 1961, 1962, 1963, 1964, 1966, 1968, 1969, 1970, 1971, 1972, 1973, 1974, 1976, 1977, 1978, 1979, 1980, 1981, 1982, 1985, 1986, 1987, 1989, 1990, 1991, 1992, 1993, 1995, 1996, 1997, 1998, 2001, 2002, 2003, 2004, 2006, 2010, 2011, 2012, 2013, 2014, 2015, 2016, 2017, 2018, 2019, 2020, 2024, 2025, 2026, 2027, 2028, 2031, 2032, 2033, 2035, 2036, 2038, 2039, 2040, 2041, 2043, 2045, 2046, 2047, 2048, 2051, 2052, 2053, 2054, 2055, 2056, 2057, 2061, 2062, 2063, 2064, 2065, 2066, 2068, 2069, 2070, 2071, 2072, 2075, 2076, 2077, 2078, 2079, 2080, 2081, 2082, 2083, 2084, 2085, 2086, 2087, 2088, 2090, 2091, 2092, 2094, 2096, 2098, 2099, 2100, 2102, 2103, 2104, 2105, 2106, 2107, 2108, 2109, 2110, 2111, 2112, 2113, 2114, 2115, 2116, 2118, 2119, 2120, 2121, 2122, 2124, 2125, 2126, 2129, 2130, 2132, 2133, 2134, 2137, 2138, 2139, 2141, 2142, 2143, 2145, 2146, 2147, 2148, 2151, 2152, 2153, 2154, 2155, 2156, 2157, 2158, 2160, 2162, 2165, 2166, 2168, 2169, 2170, 2171, 2172, 2173, 2175, 2177, 2178, 2179, 2183, 2184, 2185, 2187, 2188, 2189, 2190, 2192, 2193, 2195, 2198, 2200, 2201, 2203, 2206, 2209, 2211, 2213, 2215, 2216, 2217, 2218, 2219, 2220, 2221, 2222, 2223, 2224, 2225, 2229, 2230, 2232, 2233, 2235, 2236, 2237, 2238, 2239, 2240, 2241, 2242, 2243, 2245, 2246, 2247, 2249, 2250, 2252, 2253, 2254, 2256, 2259, 2260, 2261, 2262, 2265, 2268, 2269, 2270, 2271, 2273, 2274, 2275, 2276, 2277, 2278, 2280, 2281, 2283, 2286, 2287, 2293, 2294, 2295, 2296, 2297, 2298, 2299, 2300, 2301, 2309, 2313, 2314, 2315, 2316, 2317, 2319, 2321, 2323, 2325, 2326, 2327, 2328, 2329, 2330, 2331, 2332, 2333, 2334, 2338, 2340, 2343, 2344, 2345, 2346, 2348, 2349, 2354, 2356, 2357, 2358, 2361, 2362, 2363, 2365, 2366, 2367, 2368, 2369, 2373, 2378, 2379, 2380, 2381, 2383, 2388, 2389, 2390, 2392, 2393, 2396, 2398, 2400, 2401, 2404, 2405, 2408, 2409, 2411, 2414, 2418, 2420, 2421, 2426, 2427, 2428, 2429, 2431, 2432, 2434, 2435, 2436, 2438, 2439, 2441, 2443, 2448, 2449, 2453, 2454, 2455, 2456, 2459, 2460, 2462, 2463, 2466, 2468, 2469, 2470, 2483, 2486, 2489, 2490, 2491, 2493, 2496, 2497, 2498, 2499, 2500, 2501, 2503, 2504, 2505, 2506, 2508, 2509, 2511, 2512, 2513, 2515, 2540, 2545, 2554, 2555, 2559, 2560, 2571, 2574, 2575, 2576, 2577, 2578, 2581, 2582, 2584, 2587, 2588, 2589, 2590, 2592, 2594, 2596, 2599, 2601, 2602, 2603, 2604, 2605, 2608, 2609, 2610, 2611, 2612, 2613, 2614, 2615, 2616, 2623, 2625, 2627, 2628, 2629, 2630, 2632, 2633, 2634, 2635, 2636, 2639, 2640, 2641, 2642, 2643, 2644, 2647, 2649, 2650, 2651, 2652, 2653, 2654, 2655, 2656, 2658, 2659, 2660, 2662, 2663, 2664, 2668, 2670, 2672, 2673, 2677, 2678, 2684, 2686, 2687, 2690, 2692, 2703, 2704, 2705, 2706, 2708, 2714, 2715, 2716, 2719, 2723, 2724, 2730, 2732, 2733, 2734, 2735, 2736, 2737, 2738, 2739, 2740, 2743, 2746, 2747, 2748, 2749, 2750, 2754, 2755, 2756, 2757, 2758, 2759, 2761, 2763, 2764, 2765, 2770, 2771, 2775, 2776, 2777, 2778, 2780, 2781, 2782, 2783, 2784, 2785, 2786, 2787, 2789, 2791, 2792, 2793, 2796, 2797, 2798, 2799, 2804, 2805, 2806, 2807, 2808, 2809, 2810, 2811, 2816, 2817, 2818, 2822, 2823, 2824, 2827, 2831, 2832, 2833, 2834, 2836, 2840, 2841, 2843, 2844, 2847, 2848, 2849, 2851, 2852, 2853, 2854, 2855, 2856, 2857, 2858, 2859, 2861, 2862, 2864, 2865, 2866, 2867, 2868, 2869, 2870, 2871, 2872, 2873, 2874, 2876, 2877, 2878, 2881, 2882, 2883, 2884, 2885, 2887, 2888, 2890, 2893, 2895, 2900, 2902, 2904, 2905, 2906, 2907, 2909, 2910, 2911, 2916, 2918, 2920, 2921, 2922, 2923, 2927, 2928, 2929, 2930, 2931, 2933, 2936, 2937, 2938, 2939, 2942, 2943, 2944, 2945, 2947, 2948, 2950, 2951, 2952, 2954, 2958, 2959, 2961, 2963, 2964, 2967, 2968, 2969, 2970, 2971, 2972, 2973, 2977, 2979, 2980, 2983, 2984, 2986, 2990, 2995, 2996, 2997, 2998, 2999, 3000, 3002, 3003, 3004, 3008, 3011, 3013, 3016, 3017, 3018, 3019, 3020, 3021, 3023, 3025, 3027, 3028, 3029, 3030, 3032, 3033, 3035, 3036, 3037, 3038, 3039, 3040, 3041, 3044, 3045, 3048, 3049, 3050, 3053, 3055, 3056, 3062, 3064, 3066, 3070, 3071, 3073, 3074, 3075, 3076, 3078, 3080, 3083, 3084, 3085, 3089, 3090, 3095, 3097, 3098, 3101, 3102, 3103, 3104, 3105, 3106, 3109, 3110, 3112, 3113, 3114, 3115, 3116, 3119, 3120, 3121, 3122, 3124, 3125, 3126, 3127, 3128, 3130, 3131, 3132, 3133, 3137, 3138, 3139, 3140, 3142, 3143, 3144, 3146, 3148, 3149, 3150, 3151, 3152, 3153, 3156, 3157, 3158, 3160, 3162, 3164, 3165, 3167, 3168, 3170, 3171, 3173, 3174, 3177, 3178, 3179, 3181, 3182, 3183, 3184, 3185, 3186, 3187, 3188, 3192, 3194, 3200, 3202, 3203, 3204, 3205, 3206, 3214, 3215, 3216, 3219, 3220, 3221, 3222, 3224, 3226, 3227, 3229, 3231, 3232, 3236, 3239, 3241, 3242, 3248, 3250, 3251, 3252, 3253, 3254, 3256, 3257, 3259, 3260, 3261, 3262, 3263, 3265, 3266, 3267, 3269, 3271, 3272, 3273, 3275, 3276, 3278, 3279, 3280, 3282, 3283, 3285, 3286, 3287, 3288, 3289, 3290, 3293, 3294, 3295, 3297, 3298, 3299, 3302, 3303, 3304, 3306, 3307, 3308, 3309, 3315, 3317, 3318, 3319, 3320, 3321, 3326, 3328, 3331, 3332, 3333, 3334, 3339, 3340, 3342, 3343, 3345, 3346, 3348, 3350, 3351, 3355, 3356, 3357, 3359, 3361, 3362, 3364, 3365, 3366, 3367, 3370, 3371, 3372, 3374, 3379, 3380, 3382, 3383, 3386, 3387, 3388, 3389, 3391, 3392, 3393, 3394, 3395, 3397, 3398, 3399, 3401, 3405, 3406, 3410, 3415, 3416, 3418, 3419, 3422, 3423, 3424, 3427, 3429, 3431, 3432, 3433, 3437, 3438, 3443, 3444, 3445, 3446, 3447, 3448, 3449, 3452, 3453, 3454, 3455, 3456, 3457, 3458, 3459, 3462, 3463, 3469, 3470, 3471, 3473, 3475, 3478, 3479, 3480, 3487, 3489, 3491, 3492, 3493, 3496, 3497, 3498, 3499, 3501, 3503, 3504, 3507, 3508, 3509, 3510, 3511, 3512, 3513, 3514, 3516, 3519, 3521, 3522, 3524, 3525, 3526, 3529, 3530, 3531, 3533, 3534, 3536, 3538, 3539, 3541, 3544, 3545, 3546, 3547, 3550, 3551, 3552, 3553, 3556, 3557, 3558, 3560, 3561, 3562, 3563, 3567, 3568, 3569, 3571, 3573, 3574, 3575, 3576, 3577, 3580, 3582, 3583, 3584, 3585, 3586, 3587, 3588, 3590, 3591, 3593, 3594, 3595, 3597, 3598, 3599, 3603, 3604, 3606, 3607, 3608, 3613, 3615, 3617, 3619, 3620, 3623, 3624, 3625, 3626, 3627, 3628, 3631, 3635, 3638, 3639, 3642, 3643, 3644, 3646, 3648, 3653, 3656, 3657, 3659, 3660, 3661, 3662, 3665, 3666, 3668, 3669, 3670, 3671, 3672, 3673, 3675, 3676, 3677, 3679, 3680, 3681, 3682, 3683, 3685, 3686, 3687, 3688, 3689, 3690, 3692, 3696, 3698, 3699, 3700, 3701, 3704, 3706, 3707, 3708, 3715, 3716, 3717, 3718, 3719, 3721, 3722, 3723, 3725, 3726, 3727, 3730, 3731, 3734, 3735, 3736, 3739, 3742, 3744, 3747, 3748, 3750, 3752, 3755, 3756, 3758, 3759, 3760, 3761, 3766, 3767, 3769, 3770, 3771, 3772, 3773, 3777, 3778, 3779, 3781, 3786, 3787, 3788, 3789, 3791, 3792, 3793, 3795, 3798, 3799, 3800, 3804, 3805, 3806, 3810, 3811, 3813, 3814, 3815, 3817, 3821, 3822, 3825, 3826, 3827, 3828, 3830, 3832, 3834, 3836, 3838, 3840, 3842, 3843, 3844, 3845, 3848, 3849, 3850, 3855, 3858, 3860, 3861, 3862, 3863, 3864, 3865, 3866, 3867, 3868, 3869, 3871, 3873, 3875, 3881, 3882, 3886, 3887, 3893, 3894, 3896, 3899, 3900, 3901, 3903, 3905, 3906, 3907, 3908, 3909, 3911, 3914, 3922, 3923, 3924, 3925, 3926, 3927, 3928, 3929, 3930, 3931, 3932, 3937, 3939, 3940, 3941, 3942, 3945, 3946, 3948, 3950, 3952, 3953, 3954, 3955, 3958, 3959, 3961, 3964, 3965, 3973, 3974, 3976, 3977, 3978, 3979, 3980, 3981, 3982, 3983, 3984, 3985, 3987, 3988, 3989, 3990, 3993, 3995, 3997, 3998, 3999, 4000, 4003, 4005, 4006, 4007, 4008, 4011, 4014, 4018, 4026, 4027, 4028, 4029, 4030, 4031, 4032, 4033, 4040, 4041, 4042, 4046, 4048, 4050, 4051, 4052, 4055, 4056, 4059, 4060, 4062, 4063, 4065, 4066, 4067, 4069, 4074, 4075, 4077, 4078, 4079, 4080, 4081, 4083, 4084, 4089, 4090, 4092, 4094, 4101, 4103, 4104, 4105, 4106, 4109, 4111, 4112, 4114, 4115, 4118, 4120, 4121, 4123, 4124, 4125, 4126, 4129, 4131, 4133, 4135, 4136, 4138, 4139, 4140, 4141, 4146, 4150, 4151, 4152, 4153, 4154, 4155, 4156, 4157, 4159, 4160, 4162, 4163, 4164, 4165, 4166, 4168, 4169, 4171, 4172, 4174, 4175, 4176, 4177, 4179, 4180, 4181, 4182, 4183, 4184, 4187, 4188, 4189, 4190, 4191, 4192, 4193, 4195, 4196, 4202, 4207, 4208, 4210, 4211, 4214, 4216, 4218, 4219, 4220, 4221, 4222, 4223, 4224, 4226, 4227, 4229, 4232, 4234, 4238, 4239, 4240, 4244, 4247, 4249, 4252, 4256, 4258, 4259, 4260, 4261, 4262, 4263, 4264, 4265, 4267, 4270, 4271, 4273, 4276, 4278, 4280, 4281, 4283, 4285, 4288, 4290, 4292, 4294, 4297, 4299, 4301, 4303, 4304, 4305, 4306, 4309, 4310, 4312, 4313, 4314, 4315, 4318, 4320, 4322, 4324, 4325, 4326, 4327, 4328, 4332, 4335, 4339, 4340, 4342, 4343, 4344, 4346, 4347, 4348, 4351, 4353, 4355, 4357, 4358, 4359, 4360, 4362, 4365, 4366, 4369, 4370, 4372, 4373, 4374, 4375, 4376, 4377, 4380, 4381, 4382, 4383, 4387, 4388, 4391, 4394, 4395, 4397, 4399, 4402, 4403, 4405, 4406, 4408, 4411, 4412, 4413, 4415, 4416, 4418, 4422, 4425, 4428, 4430, 4431, 4432, 4433, 4434, 4435, 4436, 4438, 4439, 4440, 4441, 4443, 4445, 4446, 4448, 4451, 4452, 4455, 4458, 4460, 4461, 4463, 4464, 4466, 4467, 4468, 4469, 4470, 4473, 4474, 4475, 4476, 4478, 4479, 4481, 4482, 4483, 4486, 4488, 4489, 4490, 4492, 4493, 4499, 4500, 4501, 4505, 4508, 4509, 4512, 4513, 4514, 4520, 4521, 4523, 4524, 4525, 4530, 4531, 4532, 4535, 4536, 4538, 4539, 4540, 4541, 4542, 4544, 4546, 4547, 4549, 4550, 4551, 4555, 4556, 4558, 4562, 4563, 4564, 4565, 4566, 4567, 4568, 4569, 4570, 4571, 4574, 4575, 4576, 4579, 4581, 4582, 4587, 4589, 4590, 4592, 4593, 4597, 4598, 4601, 4602, 4603, 4604, 4605, 4606, 4609, 4612, 4613, 4614, 4615, 4616, 4617, 4621, 4622, 4625, 4627, 4628, 4629, 4630, 4631, 4632, 4633, 4635, 4637, 4639, 4640, 4641, 4644, 4645, 4646, 4649, 4650, 4651, 4653, 4654, 4655, 4656, 4659, 4661, 4662, 4665, 4666, 4669, 4670, 4671, 4672, 4676, 4677, 4678, 4679, 4680, 4681, 4682, 4684, 4686, 4687, 4688, 4690, 4691, 4692, 4693, 4694, 4698, 4699, 4701, 4702, 4703, 4704, 4708, 4709, 4710, 4714, 4719, 4721, 4722, 4723, 4726, 4728, 4729, 4730, 4731, 4734, 4737, 4739, 4742, 4743, 4750, 4752, 4753, 4754, 4756, 4757, 4758, 4760, 4761, 4762, 4764, 4765, 4766, 4767, 4769, 4770, 4771, 4775, 4776, 4777, 4779, 4781, 4782, 4787, 4789, 4790, 4793, 4797, 4799, 4801, 4803, 4804, 4805, 4807, 4808, 4810, 4811, 4812, 4813, 4815, 4816, 4817, 4819, 4820, 4822, 4825, 4826, 4827, 4828, 4829, 4830, 4831, 4832, 4835, 4838, 4841, 4844, 4845, 4846, 4848, 4849, 4850, 4854, 4856, 4857, 4858, 4859, 4860, 4863, 4864, 4866, 4868, 4869, 4870, 4873, 4875, 4878, 4879, 4881, 4884, 4885, 4886, 4888, 4889, 4890, 4893, 4894, 4895, 4897, 4898, 4903, 4905, 4906, 4908, 4911, 4912, 4916, 4917, 4918, 4919, 4920, 4922, 4923, 4924, 4927, 4928, 4931, 4935, 4936, 4937, 4938, 4939, 4941, 4944, 4945, 4946, 4950, 4951, 4952, 4954, 4955, 4956, 4957, 4959, 4961, 4962, 4963, 4965, 4966, 4967, 4968, 4971, 4972, 4975, 4976, 4977, 4978, 4979, 4983, 4985, 4988, 4989, 4990, 4993, 4996, 4997, 4998, 5000, 5002, 5003, 5006, 5007, 5008, 5009, 5010, 5016, 5019, 5020, 5021, 5022, 5024, 5025, 5027, 5029, 5031, 5032, 5033, 5035, 5036, 5038, 5039, 5042, 5043, 5044, 5045, 5046, 5047, 5049, 5051, 5054, 5056, 5060, 5061, 5063, 5064, 5065, 5067, 5068, 5071, 5072, 5073, 5081, 5082, 5084, 5085, 5087, 5088, 5089, 5090, 5091, 5092, 5094, 5095, 5096, 5097, 5098, 5099, 5100, 5101, 5102, 5104, 5106, 5107, 5109, 5110, 5111, 5112, 5113, 5114, 5116, 5117, 5119, 5121, 5122, 5125, 5126, 5127, 5130, 5131, 5132, 5133, 5135, 5137, 5139, 5141, 5142, 5144, 5146, 5147, 5148, 5149]\n",
      "[1, 23, 3782, 203, 4459, 46, 131, 3870, 4201, 49, 395, 3697, 5041, 242, 322, 3622, 3910, 98, 290, 754, 2982, 3764, 4642, 21, 40, 52, 135, 256, 371, 912, 3540, 3596, 3621, 3637, 3784, 4785, 4932, 64, 184, 186, 204, 214, 249, 268, 273, 334, 488, 621, 696, 765, 1355, 1897, 3136, 3141, 3483, 3532, 3651, 3775, 4038, 4134, 4293, 4755, 4892, 5138, 10, 38, 54, 58, 60, 67, 72, 125, 187, 445, 619, 665, 2790, 2926, 3632, 3684, 3740, 3856, 4206, 4209, 4484, 4774, 4778, 4934, 5013, 5079, 5140, 3, 8, 28, 90, 111, 113, 170, 193, 223, 235, 244, 261, 263, 288, 324, 330, 362, 379, 409, 511, 656, 807, 1040, 2161, 2430, 2975, 2981, 3024, 3169, 3197, 3353, 3354, 3358, 3408, 3572, 3693, 3794, 3949, 4404, 4471, 4543, 4706, 4824, 4883, 4933, 11, 22, 24, 26, 45, 63, 65, 69, 82, 87, 88, 114, 126, 155, 168, 195, 211, 215, 251, 280, 295, 304, 312, 319, 365, 456, 471, 510, 535, 557, 558, 591, 598, 639, 640, 647, 689, 733, 750, 829, 907, 1059, 1062, 1163, 1244, 1271, 1330, 1353, 1567, 2423, 2908, 3006, 3057, 3100, 3118, 3172, 3237, 3264, 3305, 3329, 3441, 3485, 3500, 3523, 3535, 3578, 3589, 3636, 3818, 3829, 3879, 3898, 3943, 3966, 3967, 4021, 4037, 4082, 4088, 4130, 4167, 4225, 4231, 4248, 4277, 4453, 4495, 4502, 4515, 4517, 4526, 4595, 4697, 4725, 4788, 4802, 4900, 4901, 5023, 6, 9, 37, 55, 56, 57, 85, 122, 134, 136, 140, 145, 164, 181, 197, 213, 240, 253, 277, 296, 305, 321, 343, 347, 373, 383, 418, 420, 438, 490, 492, 512, 521, 536, 538, 542, 607, 641, 649, 659, 668, 669, 670, 688, 697, 700, 726, 745, 763, 794, 824, 828, 843, 860, 890, 896, 926, 927, 995, 1068, 1137, 1162, 1272, 1281, 1301, 1386, 1426, 1446, 1633, 1705, 2471, 2579, 2586, 2718, 2897, 2903, 3005, 3058, 3061, 3067, 3208, 3292, 3376, 3417, 3421, 3425, 3430, 3466, 3474, 3486, 3518, 3611, 3614, 3633, 3654, 3705, 3710, 3732, 3741, 3783, 3801, 3802, 3812, 3877, 3960, 3970, 3971, 4002, 4013, 4071, 4241, 4254, 4255, 4268, 4272, 4274, 4323, 4356, 4449, 4497, 4510, 4511, 4522, 4588, 4620, 4623, 4648, 4668, 4736, 4792, 4843, 4882, 4904, 5034, 5057, 5059, 5062, 5069, 5070, 5077, 5078, 5080, 5143, 4, 13, 35, 41, 44, 48, 74, 86, 89, 92, 94, 103, 107, 121, 129, 132, 133, 160, 163, 169, 182, 199, 200, 209, 225, 230, 241, 245, 260, 294, 310, 326, 332, 335, 346, 354, 359, 375, 475, 479, 487, 518, 555, 565, 596, 631, 648, 650, 674, 681, 687, 698, 707, 712, 722, 741, 757, 761, 785, 790, 798, 833, 845, 854, 866, 871, 884, 885, 889, 938, 1014, 1018, 1038, 1058, 1076, 1198, 1213, 1240, 1251, 1261, 1262, 1264, 1343, 1401, 1405, 1413, 1437, 1499, 1566, 1668, 1671, 1747, 1775, 1787, 2029, 2128, 2144, 2174, 2176, 2197, 2199, 2248, 2251, 2290, 2305, 2312, 2318, 2335, 2336, 2410, 2447, 2510, 2593, 2688, 2845, 2898, 2899, 2913, 2934, 2949, 2953, 2989, 2993, 3007, 3031, 3069, 3079, 3108, 3191, 3310, 3324, 3335, 3336, 3338, 3363, 3378, 3414, 3434, 3564, 3570, 3610, 3618, 3640, 3695, 3720, 3749, 3757, 3763, 3807, 3835, 3876, 3917, 3918, 3968, 3972, 4015, 4020, 4047, 4097, 4098, 4100, 4110, 4142, 4145, 4148, 4161, 4186, 4204, 4245, 4282, 4311, 4367, 4390, 4393, 4450, 4491, 4496, 4506, 4552, 4554, 4586, 4618, 4685, 4711, 4732, 4749, 4763, 4768, 4786, 4795, 4842, 4855, 4876, 4921, 4943, 4947, 4969, 5052, 5053, 5103, 5115, 5124, 5129, 2, 17, 33, 34, 42, 43, 51, 61, 66, 71, 76, 95, 110, 112, 120, 146, 149, 150, 151, 152, 153, 156, 159, 173, 176, 205, 219, 226, 227, 233, 239, 246, 248, 254, 262, 264, 266, 271, 272, 276, 285, 299, 302, 313, 315, 325, 327, 328, 329, 337, 345, 352, 370, 381, 396, 404, 410, 411, 413, 421, 422, 432, 437, 442, 450, 453, 469, 473, 482, 483, 484, 489, 498, 499, 500, 532, 533, 545, 547, 554, 560, 561, 570, 575, 576, 582, 583, 585, 600, 612, 635, 636, 638, 646, 651, 661, 662, 666, 685, 706, 714, 721, 723, 727, 730, 734, 736, 751, 752, 753, 755, 759, 760, 770, 773, 778, 791, 809, 810, 820, 840, 842, 849, 850, 851, 856, 863, 894, 895, 900, 919, 924, 925, 930, 931, 939, 953, 955, 970, 974, 977, 984, 987, 988, 996, 998, 1003, 1025, 1026, 1035, 1061, 1063, 1065, 1098, 1101, 1105, 1114, 1127, 1129, 1139, 1154, 1165, 1187, 1194, 1199, 1200, 1208, 1214, 1219, 1223, 1225, 1229, 1234, 1247, 1265, 1274, 1284, 1302, 1313, 1320, 1329, 1340, 1347, 1352, 1354, 1359, 1370, 1384, 1389, 1409, 1427, 1449, 1476, 1498, 1512, 1513, 1523, 1527, 1543, 1574, 1588, 1595, 1620, 1655, 1661, 1665, 1673, 1685, 1752, 1764, 1780, 1807, 1879, 1988, 1994, 2007, 2163, 2164, 2180, 2202, 2205, 2208, 2257, 2258, 2284, 2288, 2304, 2320, 2324, 2342, 2350, 2355, 2370, 2374, 2376, 2377, 2387, 2406, 2415, 2450, 2451, 2458, 2465, 2475, 2479, 2482, 2484, 2485, 2487, 2507, 2514, 2516, 2521, 2552, 2556, 2561, 2621, 2637, 2646, 2661, 2667, 2682, 2710, 2725, 2728, 2742, 2768, 2788, 2813, 2815, 2819, 2826, 2830, 2850, 2879, 2901, 2912, 2919, 2932, 2941, 2974, 2992, 2994, 3009, 3042, 3051, 3052, 3065, 3072, 3081, 3082, 3087, 3088, 3093, 3147, 3155, 3159, 3163, 3190, 3195, 3196, 3198, 3209, 3211, 3212, 3213, 3218, 3225, 3235, 3238, 3240, 3268, 3291, 3296, 3301, 3314, 3316, 3322, 3325, 3327, 3337, 3341, 3368, 3373, 3402, 3404, 3407, 3413, 3420, 3426, 3428, 3435, 3436, 3461, 3472, 3488, 3495, 3520, 3528, 3543, 3554, 3559, 3565, 3566, 3581, 3600, 3629, 3634, 3650, 3664, 3674, 3691, 3711, 3733, 3737, 3745, 3746, 3765, 3768, 3790, 3819, 3824, 3833, 3872, 3878, 3883, 3884, 3885, 3888, 3889, 3890, 3912, 3913, 3938, 3947, 3951, 3986, 3991, 4004, 4025, 4034, 4039, 4045, 4049, 4057, 4068, 4073, 4076, 4086, 4096, 4107, 4127, 4128, 4137, 4170, 4173, 4197, 4199, 4230, 4233, 4246, 4250, 4275, 4296, 4300, 4316, 4321, 4329, 4336, 4363, 4371, 4378, 4379, 4386, 4392, 4401, 4414, 4427, 4437, 4444, 4456, 4485, 4494, 4503, 4504, 4527, 4553, 4557, 4559, 4577, 4608, 4619, 4638, 4647, 4652, 4658, 4660, 4663, 4667, 4673, 4674, 4695, 4700, 4707, 4716, 4741, 4746, 4747, 4800, 4806, 4834, 4837, 4839, 4861, 4872, 4877, 4891, 4909, 4910, 4914, 4915, 4940, 4949, 4960, 4991, 4992, 4994, 4999, 5001, 5011, 5012, 5014, 5018, 5026, 5048, 5055, 5058, 5083, 7, 14, 15, 27, 30, 31, 32, 36, 59, 68, 75, 77, 79, 91, 99, 104, 105, 109, 115, 118, 139, 166, 171, 178, 180, 185, 189, 191, 194, 196, 201, 207, 208, 210, 212, 220, 222, 229, 231, 232, 243, 247, 258, 267, 269, 270, 274, 282, 284, 286, 287, 289, 291, 292, 297, 318, 323, 331, 333, 338, 339, 340, 348, 351, 353, 356, 357, 360, 363, 364, 372, 374, 377, 382, 387, 389, 392, 394, 397, 400, 405, 408, 414, 415, 419, 423, 426, 428, 431, 434, 436, 439, 444, 446, 452, 454, 455, 457, 460, 461, 464, 465, 466, 470, 472, 474, 476, 485, 494, 502, 504, 505, 508, 509, 513, 517, 524, 525, 527, 529, 530, 534, 537, 539, 540, 544, 548, 549, 550, 551, 562, 563, 566, 572, 578, 580, 587, 593, 594, 601, 605, 609, 610, 611, 613, 615, 617, 625, 637, 644, 652, 653, 654, 658, 664, 667, 671, 673, 675, 676, 677, 679, 683, 686, 690, 693, 702, 703, 709, 711, 715, 724, 728, 735, 737, 738, 742, 743, 744, 746, 758, 771, 780, 783, 786, 789, 792, 793, 796, 797, 804, 808, 812, 814, 821, 822, 825, 830, 832, 836, 841, 847, 852, 855, 857, 862, 864, 874, 875, 887, 892, 901, 902, 904, 905, 906, 913, 914, 916, 918, 921, 922, 928, 932, 942, 943, 946, 947, 948, 950, 951, 956, 957, 958, 960, 961, 962, 964, 966, 969, 972, 975, 978, 982, 983, 985, 986, 992, 1001, 1002, 1004, 1007, 1013, 1015, 1019, 1031, 1034, 1036, 1041, 1043, 1045, 1046, 1067, 1070, 1071, 1073, 1075, 1082, 1084, 1089, 1090, 1094, 1100, 1103, 1104, 1106, 1110, 1112, 1113, 1116, 1118, 1119, 1125, 1128, 1130, 1132, 1140, 1148, 1150, 1152, 1155, 1156, 1160, 1166, 1170, 1174, 1176, 1178, 1184, 1189, 1191, 1196, 1197, 1201, 1202, 1205, 1210, 1211, 1215, 1220, 1227, 1230, 1231, 1235, 1239, 1243, 1252, 1253, 1254, 1255, 1257, 1263, 1266, 1273, 1278, 1282, 1285, 1293, 1294, 1297, 1300, 1310, 1311, 1316, 1317, 1319, 1323, 1325, 1331, 1332, 1335, 1337, 1338, 1345, 1346, 1350, 1358, 1360, 1361, 1362, 1369, 1372, 1373, 1375, 1377, 1378, 1383, 1390, 1392, 1406, 1408, 1410, 1411, 1412, 1417, 1423, 1431, 1438, 1443, 1447, 1451, 1459, 1468, 1475, 1478, 1479, 1485, 1487, 1493, 1500, 1503, 1506, 1507, 1509, 1511, 1518, 1521, 1530, 1540, 1541, 1547, 1548, 1553, 1554, 1555, 1561, 1568, 1569, 1573, 1577, 1578, 1582, 1583, 1597, 1600, 1603, 1604, 1605, 1608, 1612, 1615, 1618, 1623, 1627, 1635, 1636, 1643, 1647, 1650, 1662, 1672, 1674, 1679, 1684, 1695, 1696, 1702, 1706, 1709, 1715, 1718, 1726, 1729, 1733, 1734, 1735, 1753, 1754, 1756, 1758, 1762, 1766, 1769, 1770, 1774, 1776, 1778, 1781, 1782, 1785, 1789, 1790, 1791, 1792, 1795, 1799, 1803, 1805, 1817, 1820, 1823, 1830, 1832, 1833, 1836, 1848, 1850, 1852, 1856, 1857, 1880, 1882, 1885, 1886, 1893, 1896, 1899, 1909, 1910, 1914, 1915, 1920, 1926, 1933, 1938, 1939, 1940, 1941, 1950, 1965, 1967, 1975, 1983, 1984, 1999, 2000, 2005, 2008, 2009, 2021, 2022, 2023, 2030, 2034, 2037, 2042, 2044, 2049, 2050, 2058, 2059, 2060, 2067, 2073, 2074, 2089, 2093, 2095, 2097, 2101, 2117, 2123, 2127, 2131, 2135, 2136, 2140, 2149, 2150, 2159, 2167, 2181, 2182, 2186, 2191, 2194, 2196, 2204, 2207, 2210, 2212, 2214, 2226, 2227, 2228, 2231, 2234, 2244, 2255, 2263, 2264, 2266, 2267, 2272, 2279, 2282, 2285, 2289, 2291, 2292, 2302, 2303, 2306, 2307, 2308, 2310, 2311, 2322, 2337, 2339, 2341, 2347, 2351, 2352, 2353, 2359, 2360, 2364, 2371, 2372, 2375, 2382, 2384, 2385, 2386, 2391, 2394, 2395, 2397, 2399, 2402, 2403, 2407, 2412, 2413, 2416, 2417, 2419, 2422, 2424, 2425, 2433, 2437, 2440, 2442, 2444, 2445, 2446, 2452, 2457, 2461, 2464, 2467, 2472, 2473, 2474, 2476, 2477, 2478, 2480, 2481, 2488, 2492, 2494, 2495, 2502, 2517, 2518, 2519, 2520, 2522, 2523, 2524, 2525, 2526, 2527, 2528, 2529, 2530, 2531, 2532, 2533, 2534, 2535, 2536, 2537, 2538, 2539, 2541, 2542, 2543, 2544, 2546, 2547, 2548, 2549, 2550, 2551, 2553, 2557, 2558, 2562, 2563, 2564, 2565, 2566, 2567, 2568, 2569, 2570, 2572, 2573, 2580, 2583, 2585, 2591, 2595, 2597, 2598, 2600, 2606, 2607, 2617, 2618, 2619, 2620, 2622, 2624, 2626, 2631, 2638, 2645, 2648, 2657, 2665, 2666, 2669, 2671, 2674, 2675, 2676, 2679, 2680, 2681, 2683, 2685, 2689, 2691, 2693, 2694, 2695, 2696, 2697, 2698, 2699, 2700, 2701, 2702, 2707, 2709, 2711, 2712, 2713, 2717, 2720, 2721, 2722, 2726, 2727, 2729, 2731, 2741, 2744, 2745, 2751, 2752, 2753, 2760, 2762, 2766, 2767, 2769, 2772, 2773, 2774, 2779, 2794, 2795, 2800, 2801, 2802, 2803, 2812, 2814, 2820, 2821, 2825, 2828, 2829, 2835, 2837, 2838, 2839, 2842, 2846, 2860, 2863, 2875, 2880, 2886, 2889, 2891, 2892, 2894, 2896, 2914, 2915, 2917, 2924, 2925, 2935, 2940, 2946, 2955, 2956, 2957, 2960, 2962, 2965, 2966, 2976, 2978, 2985, 2987, 2988, 2991, 3001, 3010, 3012, 3014, 3015, 3022, 3026, 3034, 3043, 3046, 3047, 3054, 3059, 3060, 3063, 3068, 3077, 3086, 3091, 3092, 3094, 3096, 3099, 3107, 3111, 3117, 3123, 3129, 3134, 3135, 3145, 3154, 3161, 3166, 3175, 3176, 3180, 3189, 3193, 3199, 3201, 3207, 3210, 3217, 3223, 3228, 3230, 3233, 3234, 3243, 3244, 3245, 3246, 3247, 3249, 3255, 3258, 3270, 3274, 3277, 3281, 3284, 3300, 3311, 3312, 3313, 3323, 3330, 3344, 3347, 3349, 3352, 3360, 3369, 3375, 3377, 3381, 3384, 3385, 3390, 3396, 3400, 3403, 3409, 3411, 3412, 3439, 3440, 3442, 3450, 3451, 3460, 3464, 3465, 3467, 3468, 3476, 3477, 3481, 3482, 3484, 3490, 3494, 3502, 3505, 3506, 3515, 3517, 3527, 3537, 3542, 3548, 3549, 3555, 3579, 3592, 3601, 3602, 3605, 3609, 3612, 3616, 3630, 3641, 3645, 3647, 3649, 3652, 3655, 3658, 3663, 3667, 3678, 3694, 3702, 3703, 3709, 3712, 3713, 3714, 3724, 3728, 3729, 3738, 3743, 3751, 3753, 3754, 3762, 3774, 3776, 3780, 3785, 3796, 3797, 3803, 3808, 3809, 3816, 3820, 3823, 3831, 3837, 3839, 3841, 3846, 3847, 3851, 3852, 3853, 3854, 3857, 3859, 3874, 3880, 3891, 3892, 3895, 3897, 3902, 3904, 3915, 3916, 3919, 3920, 3921, 3934, 3935, 3936, 3944, 3956, 3957, 3962, 3963, 3969, 3975, 3992, 3994, 3996, 4001, 4009, 4010, 4012, 4016, 4017, 4019, 4022, 4023, 4024, 4035, 4036, 4043, 4044, 4053, 4054, 4058, 4061, 4064, 4070, 4072, 4085, 4087, 4091, 4093, 4095, 4099, 4102, 4108, 4113, 4116, 4117, 4119, 4122, 4132, 4143, 4144, 4147, 4149, 4158, 4178, 4185, 4194, 4198, 4200, 4203, 4205, 4212, 4213, 4215, 4217, 4228, 4235, 4236, 4237, 4242, 4243, 4251, 4253, 4257, 4266, 4269, 4279, 4284, 4286, 4287, 4289, 4291, 4295, 4298, 4302, 4307, 4308, 4317, 4319, 4330, 4331, 4333, 4334, 4337, 4338, 4341, 4345, 4349, 4350, 4352, 4354, 4361, 4364, 4368, 4384, 4385, 4389, 4396, 4398, 4400, 4407, 4409, 4410, 4417, 4419, 4420, 4421, 4423, 4424, 4426, 4429, 4442, 4447, 4454, 4457, 4462, 4465, 4472, 4477, 4480, 4487, 4498, 4507, 4516, 4518, 4519, 4528, 4529, 4533, 4534, 4537, 4545, 4548, 4560, 4561, 4572, 4573, 4578, 4580, 4583, 4584, 4585, 4591, 4594, 4596, 4599, 4600, 4607, 4610, 4611, 4624, 4626, 4634, 4636, 4643, 4657, 4664, 4675, 4683, 4689, 4696, 4705, 4712, 4713, 4715, 4717, 4718, 4720, 4724, 4727, 4733, 4735, 4738, 4740, 4744, 4745, 4748, 4751, 4759, 4772, 4773, 4780, 4783, 4784, 4791, 4794, 4796, 4798, 4809, 4814, 4818, 4821, 4823, 4833, 4836, 4840, 4847, 4851, 4852, 4853, 4862, 4865, 4867, 4871, 4874, 4880, 4887, 4896, 4899, 4902, 4907, 4913, 4925, 4926, 4929, 4930, 4942, 4948, 4953, 4958, 4964, 4970, 4973, 4974, 4980, 4981, 4982, 4984, 4986, 4987, 4995, 5004, 5005, 5015, 5017, 5028, 5030, 5037, 5040, 5050, 5066, 5074, 5075, 5076, 5086, 5093, 5105, 5108, 5118, 5120, 5123, 5128, 5134, 5136, 5145, 5, 12, 16, 18, 19, 20, 25, 29, 39, 47, 50, 53, 62, 70, 73, 78, 80, 81, 83, 84, 93, 96, 97, 100, 101, 102, 106, 108, 116, 117, 119, 123, 124, 127, 128, 130, 137, 138, 141, 142, 143, 144, 147, 148, 154, 157, 158, 161, 162, 165, 167, 172, 174, 175, 177, 179, 183, 188, 190, 192, 198, 202, 206, 216, 217, 218, 221, 224, 228, 234, 236, 237, 238, 250, 252, 255, 257, 259, 265, 275, 278, 279, 281, 283, 293, 298, 300, 301, 303, 306, 307, 308, 309, 311, 314, 316, 317, 320, 336, 341, 342, 344, 349, 350, 355, 358, 361, 366, 367, 368, 369, 376, 378, 380, 384, 385, 386, 388, 390, 391, 393, 398, 399, 401, 402, 403, 406, 407, 412, 416, 417, 424, 425, 427, 429, 430, 433, 435, 440, 441, 443, 447, 448, 449, 451, 458, 459, 462, 463, 467, 468, 477, 478, 480, 481, 486, 491, 493, 495, 496, 497, 501, 503, 506, 507, 514, 515, 516, 519, 520, 522, 523, 526, 528, 531, 541, 543, 546, 552, 553, 556, 559, 564, 567, 568, 569, 571, 573, 574, 577, 579, 581, 584, 586, 588, 589, 590, 592, 595, 597, 599, 602, 603, 604, 606, 608, 614, 616, 618, 620, 622, 623, 624, 626, 627, 628, 629, 630, 632, 633, 634, 642, 643, 645, 655, 657, 660, 663, 672, 678, 680, 682, 684, 691, 692, 694, 695, 699, 701, 704, 705, 708, 710, 713, 716, 717, 718, 719, 720, 725, 729, 731, 732, 739, 740, 747, 748, 749, 756, 762, 764, 766, 767, 768, 769, 772, 774, 775, 776, 777, 779, 781, 782, 784, 787, 788, 795, 799, 800, 801, 802, 803, 805, 806, 811, 813, 815, 816, 817, 818, 819, 823, 826, 827, 831, 834, 835, 837, 838, 839, 844, 846, 848, 853, 858, 859, 861, 865, 867, 868, 869, 870, 872, 873, 876, 877, 878, 879, 880, 881, 882, 883, 886, 888, 891, 893, 897, 898, 899, 903, 908, 909, 910, 911, 915, 917, 920, 923, 929, 933, 934, 935, 936, 937, 940, 941, 944, 945, 949, 952, 954, 959, 963, 965, 967, 968, 971, 973, 976, 979, 980, 981, 989, 990, 991, 993, 994, 997, 999, 1000, 1005, 1006, 1008, 1009, 1010, 1011, 1012, 1016, 1017, 1020, 1021, 1022, 1023, 1024, 1027, 1028, 1029, 1030, 1032, 1033, 1037, 1039, 1042, 1044, 1047, 1048, 1049, 1050, 1051, 1052, 1053, 1054, 1055, 1056, 1057, 1060, 1064, 1066, 1069, 1072, 1074, 1077, 1078, 1079, 1080, 1081, 1083, 1085, 1086, 1087, 1088, 1091, 1092, 1093, 1095, 1096, 1097, 1099, 1102, 1107, 1108, 1109, 1111, 1115, 1117, 1120, 1121, 1122, 1123, 1124, 1126, 1131, 1133, 1134, 1135, 1136, 1138, 1141, 1142, 1143, 1144, 1145, 1146, 1147, 1149, 1151, 1153, 1157, 1158, 1159, 1161, 1164, 1167, 1168, 1169, 1171, 1172, 1173, 1175, 1177, 1179, 1180, 1181, 1182, 1183, 1185, 1186, 1188, 1190, 1192, 1193, 1195, 1203, 1204, 1206, 1207, 1209, 1212, 1216, 1217, 1218, 1221, 1222, 1224, 1226, 1228, 1232, 1233, 1236, 1237, 1238, 1241, 1242, 1245, 1246, 1248, 1249, 1250, 1256, 1258, 1259, 1260, 1267, 1268, 1269, 1270, 1275, 1276, 1277, 1279, 1280, 1283, 1286, 1287, 1288, 1289, 1290, 1291, 1292, 1295, 1296, 1298, 1299, 1303, 1304, 1305, 1306, 1307, 1308, 1309, 1312, 1314, 1315, 1318, 1321, 1322, 1324, 1326, 1327, 1328, 1333, 1334, 1336, 1339, 1341, 1342, 1344, 1348, 1349, 1351, 1356, 1357, 1363, 1364, 1365, 1366, 1367, 1368, 1371, 1374, 1376, 1379, 1380, 1381, 1382, 1385, 1387, 1388, 1391, 1393, 1394, 1395, 1396, 1397, 1398, 1399, 1400, 1402, 1403, 1404, 1407, 1414, 1415, 1416, 1418, 1419, 1420, 1421, 1422, 1424, 1425, 1428, 1429, 1430, 1432, 1433, 1434, 1435, 1436, 1439, 1440, 1441, 1442, 1444, 1445, 1448, 1450, 1452, 1453, 1454, 1455, 1456, 1457, 1458, 1460, 1461, 1462, 1463, 1464, 1465, 1466, 1467, 1469, 1470, 1471, 1472, 1473, 1474, 1477, 1480, 1481, 1482, 1483, 1484, 1486, 1488, 1489, 1490, 1491, 1492, 1494, 1495, 1496, 1497, 1501, 1502, 1504, 1505, 1508, 1510, 1514, 1515, 1516, 1517, 1519, 1520, 1522, 1524, 1525, 1526, 1528, 1529, 1531, 1532, 1533, 1534, 1535, 1536, 1537, 1538, 1539, 1542, 1544, 1545, 1546, 1549, 1550, 1551, 1552, 1556, 1557, 1558, 1559, 1560, 1562, 1563, 1564, 1565, 1570, 1571, 1572, 1575, 1576, 1579, 1580, 1581, 1584, 1585, 1586, 1587, 1589, 1590, 1591, 1592, 1593, 1594, 1596, 1598, 1599, 1601, 1602, 1606, 1607, 1609, 1610, 1611, 1613, 1614, 1616, 1617, 1619, 1621, 1622, 1624, 1625, 1626, 1628, 1629, 1630, 1631, 1632, 1634, 1637, 1638, 1639, 1640, 1641, 1642, 1644, 1645, 1646, 1648, 1649, 1651, 1652, 1653, 1654, 1656, 1657, 1658, 1659, 1660, 1663, 1664, 1666, 1667, 1669, 1670, 1675, 1676, 1677, 1678, 1680, 1681, 1682, 1683, 1686, 1687, 1688, 1689, 1690, 1691, 1692, 1693, 1694, 1697, 1698, 1699, 1700, 1701, 1703, 1704, 1707, 1708, 1710, 1711, 1712, 1713, 1714, 1716, 1717, 1719, 1720, 1721, 1722, 1723, 1724, 1725, 1727, 1728, 1730, 1731, 1732, 1736, 1737, 1738, 1739, 1740, 1741, 1742, 1743, 1744, 1745, 1746, 1748, 1749, 1750, 1751, 1755, 1757, 1759, 1760, 1761, 1763, 1765, 1767, 1768, 1771, 1772, 1773, 1777, 1779, 1783, 1784, 1786, 1788, 1793, 1794, 1796, 1797, 1798, 1800, 1801, 1802, 1804, 1806, 1808, 1809, 1810, 1811, 1812, 1813, 1814, 1815, 1816, 1818, 1819, 1821, 1822, 1824, 1825, 1826, 1827, 1828, 1829, 1831, 1834, 1835, 1837, 1838, 1839, 1840, 1841, 1842, 1843, 1844, 1845, 1846, 1847, 1849, 1851, 1853, 1854, 1855, 1858, 1859, 1860, 1861, 1862, 1863, 1864, 1865, 1866, 1867, 1868, 1869, 1870, 1871, 1872, 1873, 1874, 1875, 1876, 1877, 1878, 1881, 1883, 1884, 1887, 1888, 1889, 1890, 1891, 1892, 1894, 1895, 1898, 1900, 1901, 1902, 1903, 1904, 1905, 1906, 1907, 1908, 1911, 1912, 1913, 1916, 1917, 1918, 1919, 1921, 1922, 1923, 1924, 1925, 1927, 1928, 1929, 1930, 1931, 1932, 1934, 1935, 1936, 1937, 1942, 1943, 1944, 1945, 1946, 1947, 1948, 1949, 1951, 1952, 1953, 1954, 1955, 1956, 1957, 1958, 1959, 1960, 1961, 1962, 1963, 1964, 1966, 1968, 1969, 1970, 1971, 1972, 1973, 1974, 1976, 1977, 1978, 1979, 1980, 1981, 1982, 1985, 1986, 1987, 1989, 1990, 1991, 1992, 1993, 1995, 1996, 1997, 1998, 2001, 2002, 2003, 2004, 2006, 2010, 2011, 2012, 2013, 2014, 2015, 2016, 2017, 2018, 2019, 2020, 2024, 2025, 2026, 2027, 2028, 2031, 2032, 2033, 2035, 2036, 2038, 2039, 2040, 2041, 2043, 2045, 2046, 2047, 2048, 2051, 2052, 2053, 2054, 2055, 2056, 2057, 2061, 2062, 2063, 2064, 2065, 2066, 2068, 2069, 2070, 2071, 2072, 2075, 2076, 2077, 2078, 2079, 2080, 2081, 2082, 2083, 2084, 2085, 2086, 2087, 2088, 2090, 2091, 2092, 2094, 2096, 2098, 2099, 2100, 2102, 2103, 2104, 2105, 2106, 2107, 2108, 2109, 2110, 2111, 2112, 2113, 2114, 2115, 2116, 2118, 2119, 2120, 2121, 2122, 2124, 2125, 2126, 2129, 2130, 2132, 2133, 2134, 2137, 2138, 2139, 2141, 2142, 2143, 2145, 2146, 2147, 2148, 2151, 2152, 2153, 2154, 2155, 2156, 2157, 2158, 2160, 2162, 2165, 2166, 2168, 2169, 2170, 2171, 2172, 2173, 2175, 2177, 2178, 2179, 2183, 2184, 2185, 2187, 2188, 2189, 2190, 2192, 2193, 2195, 2198, 2200, 2201, 2203, 2206, 2209, 2211, 2213, 2215, 2216, 2217, 2218, 2219, 2220, 2221, 2222, 2223, 2224, 2225, 2229, 2230, 2232, 2233, 2235, 2236, 2237, 2238, 2239, 2240, 2241, 2242, 2243, 2245, 2246, 2247, 2249, 2250, 2252, 2253, 2254, 2256, 2259, 2260, 2261, 2262, 2265, 2268, 2269, 2270, 2271, 2273, 2274, 2275, 2276, 2277, 2278, 2280, 2281, 2283, 2286, 2287, 2293, 2294, 2295, 2296, 2297, 2298, 2299, 2300, 2301, 2309, 2313, 2314, 2315, 2316, 2317, 2319, 2321, 2323, 2325, 2326, 2327, 2328, 2329, 2330, 2331, 2332, 2333, 2334, 2338, 2340, 2343, 2344, 2345, 2346, 2348, 2349, 2354, 2356, 2357, 2358, 2361, 2362, 2363, 2365, 2366, 2367, 2368, 2369, 2373, 2378, 2379, 2380, 2381, 2383, 2388, 2389, 2390, 2392, 2393, 2396, 2398, 2400, 2401, 2404, 2405, 2408, 2409, 2411, 2414, 2418, 2420, 2421, 2426, 2427, 2428, 2429, 2431, 2432, 2434, 2435, 2436, 2438, 2439, 2441, 2443, 2448, 2449, 2453, 2454, 2455, 2456, 2459, 2460, 2462, 2463, 2466, 2468, 2469, 2470, 2483, 2486, 2489, 2490, 2491, 2493, 2496, 2497, 2498, 2499, 2500, 2501, 2503, 2504, 2505, 2506, 2508, 2509, 2511, 2512, 2513, 2515, 2540, 2545, 2554, 2555, 2559, 2560, 2571, 2574, 2575, 2576, 2577, 2578, 2581, 2582, 2584, 2587, 2588, 2589, 2590, 2592, 2594, 2596, 2599, 2601, 2602, 2603, 2604, 2605, 2608, 2609, 2610, 2611, 2612, 2613, 2614, 2615, 2616, 2623, 2625, 2627, 2628, 2629, 2630, 2632, 2633, 2634, 2635, 2636, 2639, 2640, 2641, 2642, 2643, 2644, 2647, 2649, 2650, 2651, 2652, 2653, 2654, 2655, 2656, 2658, 2659, 2660, 2662, 2663, 2664, 2668, 2670, 2672, 2673, 2677, 2678, 2684, 2686, 2687, 2690, 2692, 2703, 2704, 2705, 2706, 2708, 2714, 2715, 2716, 2719, 2723, 2724, 2730, 2732, 2733, 2734, 2735, 2736, 2737, 2738, 2739, 2740, 2743, 2746, 2747, 2748, 2749, 2750, 2754, 2755, 2756, 2757, 2758, 2759, 2761, 2763, 2764, 2765, 2770, 2771, 2775, 2776, 2777, 2778, 2780, 2781, 2782, 2783, 2784, 2785, 2786, 2787, 2789, 2791, 2792, 2793, 2796, 2797, 2798, 2799, 2804, 2805, 2806, 2807, 2808, 2809, 2810, 2811, 2816, 2817, 2818, 2822, 2823, 2824, 2827, 2831, 2832, 2833, 2834, 2836, 2840, 2841, 2843, 2844, 2847, 2848, 2849, 2851, 2852, 2853, 2854, 2855, 2856, 2857, 2858, 2859, 2861, 2862, 2864, 2865, 2866, 2867, 2868, 2869, 2870, 2871, 2872, 2873, 2874, 2876, 2877, 2878, 2881, 2882, 2883, 2884, 2885, 2887, 2888, 2890, 2893, 2895, 2900, 2902, 2904, 2905, 2906, 2907, 2909, 2910, 2911, 2916, 2918, 2920, 2921, 2922, 2923, 2927, 2928, 2929, 2930, 2931, 2933, 2936, 2937, 2938, 2939, 2942, 2943, 2944, 2945, 2947, 2948, 2950, 2951, 2952, 2954, 2958, 2959, 2961, 2963, 2964, 2967, 2968, 2969, 2970, 2971, 2972, 2973, 2977, 2979, 2980, 2983, 2984, 2986, 2990, 2995, 2996, 2997, 2998, 2999, 3000, 3002, 3003, 3004, 3008, 3011, 3013, 3016, 3017, 3018, 3019, 3020, 3021, 3023, 3025, 3027, 3028, 3029, 3030, 3032, 3033, 3035, 3036, 3037, 3038, 3039, 3040, 3041, 3044, 3045, 3048, 3049, 3050, 3053, 3055, 3056, 3062, 3064, 3066, 3070, 3071, 3073, 3074, 3075, 3076, 3078, 3080, 3083, 3084, 3085, 3089, 3090, 3095, 3097, 3098, 3101, 3102, 3103, 3104, 3105, 3106, 3109, 3110, 3112, 3113, 3114, 3115, 3116, 3119, 3120, 3121, 3122, 3124, 3125, 3126, 3127, 3128, 3130, 3131, 3132, 3133, 3137, 3138, 3139, 3140, 3142, 3143, 3144, 3146, 3148, 3149, 3150, 3151, 3152, 3153, 3156, 3157, 3158, 3160, 3162, 3164, 3165, 3167, 3168, 3170, 3171, 3173, 3174, 3177, 3178, 3179, 3181, 3182, 3183, 3184, 3185, 3186, 3187, 3188, 3192, 3194, 3200, 3202, 3203, 3204, 3205, 3206, 3214, 3215, 3216, 3219, 3220, 3221, 3222, 3224, 3226, 3227, 3229, 3231, 3232, 3236, 3239, 3241, 3242, 3248, 3250, 3251, 3252, 3253, 3254, 3256, 3257, 3259, 3260, 3261, 3262, 3263, 3265, 3266, 3267, 3269, 3271, 3272, 3273, 3275, 3276, 3278, 3279, 3280, 3282, 3283, 3285, 3286, 3287, 3288, 3289, 3290, 3293, 3294, 3295, 3297, 3298, 3299, 3302, 3303, 3304, 3306, 3307, 3308, 3309, 3315, 3317, 3318, 3319, 3320, 3321, 3326, 3328, 3331, 3332, 3333, 3334, 3339, 3340, 3342, 3343, 3345, 3346, 3348, 3350, 3351, 3355, 3356, 3357, 3359, 3361, 3362, 3364, 3365, 3366, 3367, 3370, 3371, 3372, 3374, 3379, 3380, 3382, 3383, 3386, 3387, 3388, 3389, 3391, 3392, 3393, 3394, 3395, 3397, 3398, 3399, 3401, 3405, 3406, 3410, 3415, 3416, 3418, 3419, 3422, 3423, 3424, 3427, 3429, 3431, 3432, 3433, 3437, 3438, 3443, 3444, 3445, 3446, 3447, 3448, 3449, 3452, 3453, 3454, 3455, 3456, 3457, 3458, 3459, 3462, 3463, 3469, 3470, 3471, 3473, 3475, 3478, 3479, 3480, 3487, 3489, 3491, 3492, 3493, 3496, 3497, 3498, 3499, 3501, 3503, 3504, 3507, 3508, 3509, 3510, 3511, 3512, 3513, 3514, 3516, 3519, 3521, 3522, 3524, 3525, 3526, 3529, 3530, 3531, 3533, 3534, 3536, 3538, 3539, 3541, 3544, 3545, 3546, 3547, 3550, 3551, 3552, 3553, 3556, 3557, 3558, 3560, 3561, 3562, 3563, 3567, 3568, 3569, 3571, 3573, 3574, 3575, 3576, 3577, 3580, 3582, 3583, 3584, 3585, 3586, 3587, 3588, 3590, 3591, 3593, 3594, 3595, 3597, 3598, 3599, 3603, 3604, 3606, 3607, 3608, 3613, 3615, 3617, 3619, 3620, 3623, 3624, 3625, 3626, 3627, 3628, 3631, 3635, 3638, 3639, 3642, 3643, 3644, 3646, 3648, 3653, 3656, 3657, 3659, 3660, 3661, 3662, 3665, 3666, 3668, 3669, 3670, 3671, 3672, 3673, 3675, 3676, 3677, 3679, 3680, 3681, 3682, 3683, 3685, 3686, 3687, 3688, 3689, 3690, 3692, 3696, 3698, 3699, 3700, 3701, 3704, 3706, 3707, 3708, 3715, 3716, 3717, 3718, 3719, 3721, 3722, 3723, 3725, 3726, 3727, 3730, 3731, 3734, 3735, 3736, 3739, 3742, 3744, 3747, 3748, 3750, 3752, 3755, 3756, 3758, 3759, 3760, 3761, 3766, 3767, 3769, 3770, 3771, 3772, 3773, 3777, 3778, 3779, 3781, 3786, 3787, 3788, 3789, 3791, 3792, 3793, 3795, 3798, 3799, 3800, 3804, 3805, 3806, 3810, 3811, 3813, 3814, 3815, 3817, 3821, 3822, 3825, 3826, 3827, 3828, 3830, 3832, 3834, 3836, 3838, 3840, 3842, 3843, 3844, 3845, 3848, 3849, 3850, 3855, 3858, 3860, 3861, 3862, 3863, 3864, 3865, 3866, 3867, 3868, 3869, 3871, 3873, 3875, 3881, 3882, 3886, 3887, 3893, 3894, 3896, 3899, 3900, 3901, 3903, 3905, 3906, 3907, 3908, 3909, 3911, 3914, 3922, 3923, 3924, 3925, 3926, 3927, 3928, 3929, 3930, 3931, 3932, 3937, 3939, 3940, 3941, 3942, 3945, 3946, 3948, 3950, 3952, 3953, 3954, 3955, 3958, 3959, 3961, 3964, 3965, 3973, 3974, 3976, 3977, 3978, 3979, 3980, 3981, 3982, 3983, 3984, 3985, 3987, 3988, 3989, 3990, 3993, 3995, 3997, 3998, 3999, 4000, 4003, 4005, 4006, 4007, 4008, 4011, 4014, 4018, 4026, 4027, 4028, 4029, 4030, 4031, 4032, 4033, 4040, 4041, 4042, 4046, 4048, 4050, 4051, 4052, 4055, 4056, 4059, 4060, 4062, 4063, 4065, 4066, 4067, 4069, 4074, 4075, 4077, 4078, 4079, 4080, 4081, 4083, 4084, 4089, 4090, 4092, 4094, 4101, 4103, 4104, 4105, 4106, 4109, 4111, 4112, 4114, 4115, 4118, 4120, 4121, 4123, 4124, 4125, 4126, 4129, 4131, 4133, 4135, 4136, 4138, 4139, 4140, 4141, 4146, 4150, 4151, 4152, 4153, 4154, 4155, 4156, 4157, 4159, 4160, 4162, 4163, 4164, 4165, 4166, 4168, 4169, 4171, 4172, 4174, 4175, 4176, 4177, 4179, 4180, 4181, 4182, 4183, 4184, 4187, 4188, 4189, 4190, 4191, 4192, 4193, 4195, 4196, 4202, 4207, 4208, 4210, 4211, 4214, 4216, 4218, 4219, 4220, 4221, 4222, 4223, 4224, 4226, 4227, 4229, 4232, 4234, 4238, 4239, 4240, 4244, 4247, 4249, 4252, 4256, 4258, 4259, 4260, 4261, 4262, 4263, 4264, 4265, 4267, 4270, 4271, 4273, 4276, 4278, 4280, 4281, 4283, 4285, 4288, 4290, 4292, 4294, 4297, 4299, 4301, 4303, 4304, 4305, 4306, 4309, 4310, 4312, 4313, 4314, 4315, 4318, 4320, 4322, 4324, 4325, 4326, 4327, 4328, 4332, 4335, 4339, 4340, 4342, 4343, 4344, 4346, 4347, 4348, 4351, 4353, 4355, 4357, 4358, 4359, 4360, 4362, 4365, 4366, 4369, 4370, 4372, 4373, 4374, 4375, 4376, 4377, 4380, 4381, 4382, 4383, 4387, 4388, 4391, 4394, 4395, 4397, 4399, 4402, 4403, 4405, 4406, 4408, 4411, 4412, 4413, 4415, 4416, 4418, 4422, 4425, 4428, 4430, 4431, 4432, 4433, 4434, 4435, 4436, 4438, 4439, 4440, 4441, 4443, 4445, 4446, 4448, 4451, 4452, 4455, 4458, 4460, 4461, 4463, 4464, 4466, 4467, 4468, 4469, 4470, 4473, 4474, 4475, 4476, 4478, 4479, 4481, 4482, 4483, 4486, 4488, 4489, 4490, 4492, 4493, 4499, 4500, 4501, 4505, 4508, 4509, 4512, 4513, 4514, 4520, 4521, 4523, 4524, 4525, 4530, 4531, 4532, 4535, 4536, 4538, 4539, 4540, 4541, 4542, 4544, 4546, 4547, 4549, 4550, 4551, 4555, 4556, 4558, 4562, 4563, 4564, 4565, 4566, 4567, 4568, 4569, 4570, 4571, 4574, 4575, 4576, 4579, 4581, 4582, 4587, 4589, 4590, 4592, 4593, 4597, 4598, 4601, 4602, 4603, 4604, 4605, 4606, 4609, 4612, 4613, 4614, 4615, 4616, 4617, 4621, 4622, 4625, 4627, 4628, 4629, 4630, 4631, 4632, 4633, 4635, 4637, 4639, 4640, 4641, 4644, 4645, 4646, 4649, 4650, 4651, 4653, 4654, 4655, 4656, 4659, 4661, 4662, 4665, 4666, 4669, 4670, 4671, 4672, 4676, 4677, 4678, 4679, 4680, 4681, 4682, 4684, 4686, 4687, 4688, 4690, 4691, 4692, 4693, 4694, 4698, 4699, 4701, 4702, 4703, 4704, 4708, 4709, 4710, 4714, 4719, 4721, 4722, 4723, 4726, 4728, 4729, 4730, 4731, 4734, 4737, 4739, 4742, 4743, 4750, 4752, 4753, 4754, 4756, 4757, 4758, 4760, 4761, 4762, 4764, 4765, 4766, 4767, 4769, 4770, 4771, 4775, 4776, 4777, 4779, 4781, 4782, 4787, 4789, 4790, 4793, 4797, 4799, 4801, 4803, 4804, 4805, 4807, 4808, 4810, 4811, 4812, 4813, 4815, 4816, 4817, 4819, 4820, 4822, 4825, 4826, 4827, 4828, 4829, 4830, 4831, 4832, 4835, 4838, 4841, 4844, 4845, 4846, 4848, 4849, 4850, 4854, 4856, 4857, 4858, 4859, 4860, 4863, 4864, 4866, 4868, 4869, 4870, 4873, 4875, 4878, 4879, 4881, 4884, 4885, 4886, 4888, 4889, 4890, 4893, 4894, 4895, 4897, 4898, 4903, 4905, 4906, 4908, 4911, 4912, 4916, 4917, 4918, 4919, 4920, 4922, 4923, 4924, 4927, 4928, 4931, 4935, 4936, 4937, 4938, 4939, 4941, 4944, 4945, 4946, 4950, 4951, 4952, 4954, 4955, 4956, 4957, 4959, 4961, 4962, 4963, 4965, 4966, 4967, 4968, 4971, 4972, 4975, 4976, 4977, 4978, 4979, 4983, 4985, 4988, 4989, 4990, 4993, 4996, 4997, 4998, 5000, 5002, 5003, 5006, 5007, 5008, 5009, 5010, 5016, 5019, 5020, 5021, 5022, 5024, 5025, 5027, 5029, 5031, 5032, 5033, 5035, 5036, 5038, 5039, 5042, 5043, 5044, 5045, 5046, 5047, 5049, 5051, 5054, 5056, 5060, 5061, 5063, 5064, 5065, 5067, 5068, 5071, 5072, 5073, 5081, 5082, 5084, 5085, 5087, 5088, 5089, 5090, 5091, 5092, 5094, 5095, 5096, 5097, 5098, 5099, 5100, 5101, 5102, 5104, 5106, 5107, 5109, 5110, 5111, 5112, 5113, 5114, 5116, 5117, 5119, 5121, 5122, 5125, 5126, 5127, 5130, 5131, 5132, 5133, 5135, 5137, 5139, 5141, 5142, 5144, 5146, 5147, 5148, 5149]\n"
     ]
    }
   ],
   "source": [
    "#u_i.loc[u_i['user_id'] == 12]\n",
    "#a = user_item.iloc[0].to_numpy()\n",
    "#b = user_item.iloc[0].to_numpy()\n",
    "#np.dot(a, b)\n",
    "\n",
    "user_id = 3933\n",
    "\n",
    "user_similarity = {}\n",
    "prime_user_vec = user_item.iloc[user_id - 1].to_numpy()\n",
    "for idx in range(0, user_item.shape[0]):\n",
    "\tcomp_user_vec = user_item.iloc[idx].to_numpy()\n",
    "\tuser_similarity[idx + 1] = np.dot(prime_user_vec, comp_user_vec)\n",
    "\n",
    "user_sim_tuples = sorted(user_similarity.items(), key=lambda x:x[1], reverse=True)\n",
    "\n",
    "user_sim_ids = [i[0] for i in user_sim_tuples]\n",
    "\n",
    "print(user_sim_ids)\n",
    "user_sim_ids.remove(user_id)\n",
    "print(user_sim_ids)\n",
    "\n",
    "#"
   ]
  },
  {
   "cell_type": "code",
   "execution_count": 69,
   "metadata": {
    "collapsed": true
   },
   "outputs": [],
   "source": [
    "def find_similar_users(user_id, user_item=user_item):\n",
    "    '''\n",
    "    INPUT:\n",
    "    user_id - (int) a user_id\n",
    "    user_item - (pandas dataframe) matrix of users by articles: \n",
    "                1's when a user has interacted with an article, 0 otherwise\n",
    "    \n",
    "    OUTPUT:\n",
    "    similar_users - (list) an ordered list where the closest users (largest dot product users)\n",
    "                    are listed first\n",
    "    \n",
    "    Description:\n",
    "    Computes the similarity of every pair of users based on the dot product\n",
    "    Returns an ordered\n",
    "    \n",
    "    '''\n",
    "    # compute similarity of each user to the provided user\n",
    "    user_similarity = {}\n",
    "    prime_user_vec = user_item.iloc[user_id - 1].to_numpy()\n",
    "    for idx in range(0, user_item.shape[0]):\n",
    "        comp_user_vec = user_item.iloc[idx].to_numpy()\n",
    "        user_similarity[idx + 1] = np.dot(prime_user_vec, comp_user_vec)\n",
    "\n",
    "    # sort by similarity\n",
    "    user_sim_tuples = sorted(user_similarity.items(), key=lambda x:x[1], reverse=True)\n",
    "\n",
    "    # create list of just the ids\n",
    "    most_similar_users = [i[0] for i in user_sim_tuples]\n",
    "\n",
    "    # remove the own user's id\n",
    "    most_similar_users.remove(user_id)\n",
    "\n",
    "    return most_similar_users # return a list of the users in order from most to least similar\n"
   ]
  },
  {
   "cell_type": "code",
   "execution_count": 70,
   "metadata": {
    "collapsed": true
   },
   "outputs": [
    {
     "name": "stdout",
     "output_type": "stream",
     "text": [
      "The 10 most similar users to user 1 are: [3933, 23, 3782, 203, 4459, 131, 3870, 46, 4201, 49]\n",
      "The 5 most similar users to user 3933 are: [1, 23, 3782, 203, 4459]\n",
      "The 3 most similar users to user 46 are: [4201, 23, 3782]\n"
     ]
    }
   ],
   "source": [
    "# Do a spot check of your function\n",
    "print(\"The 10 most similar users to user 1 are: {}\".format(find_similar_users(1)[:10]))\n",
    "print(\"The 5 most similar users to user 3933 are: {}\".format(find_similar_users(3933)[:5]))\n",
    "print(\"The 3 most similar users to user 46 are: {}\".format(find_similar_users(46)[:3]))"
   ]
  },
  {
   "cell_type": "markdown",
   "metadata": {},
   "source": [
    "`3.` Now that you have a function that provides the most similar users to each user, you will want to use these users to find articles you can recommend.  Complete the functions below to return the articles you would recommend to each user. "
   ]
  },
  {
   "cell_type": "code",
   "execution_count": null,
   "metadata": {
    "collapsed": true
   },
   "outputs": [],
   "source": [
    "def get_article_names(article_ids, df=df):\n",
    "    '''\n",
    "    INPUT:\n",
    "    article_ids - (list) a list of article ids\n",
    "    df - (pandas dataframe) df as defined at the top of the notebook\n",
    "    \n",
    "    OUTPUT:\n",
    "    article_names - (list) a list of article names associated with the list of article ids \n",
    "                    (this is identified by the title column)\n",
    "    '''\n",
    "    # Your code here\n",
    "    \n",
    "    return article_names # Return the article names associated with list of article ids\n",
    "\n",
    "\n",
    "def get_user_articles(user_id, user_item=user_item):\n",
    "    '''\n",
    "    INPUT:\n",
    "    user_id - (int) a user id\n",
    "    user_item - (pandas dataframe) matrix of users by articles: \n",
    "                1's when a user has interacted with an article, 0 otherwise\n",
    "    \n",
    "    OUTPUT:\n",
    "    article_ids - (list) a list of the article ids seen by the user\n",
    "    article_names - (list) a list of article names associated with the list of article ids \n",
    "                    (this is identified by the doc_full_name column in df_content)\n",
    "    \n",
    "    Description:\n",
    "    Provides a list of the article_ids and article titles that have been seen by a user\n",
    "    '''\n",
    "    # Your code here\n",
    "    \n",
    "    return article_ids, article_names # return the ids and names\n",
    "\n",
    "\n",
    "def user_user_recs(user_id, m=10):\n",
    "    '''\n",
    "    INPUT:\n",
    "    user_id - (int) a user id\n",
    "    m - (int) the number of recommendations you want for the user\n",
    "    \n",
    "    OUTPUT:\n",
    "    recs - (list) a list of recommendations for the user\n",
    "    \n",
    "    Description:\n",
    "    Loops through the users based on closeness to the input user_id\n",
    "    For each user - finds articles the user hasn't seen before and provides them as recs\n",
    "    Does this until m recommendations are found\n",
    "    \n",
    "    Notes:\n",
    "    Users who are the same closeness are chosen arbitrarily as the 'next' user\n",
    "    \n",
    "    For the user where the number of recommended articles starts below m \n",
    "    and ends exceeding m, the last items are chosen arbitrarily\n",
    "    \n",
    "    '''\n",
    "    # Your code here\n",
    "    \n",
    "    return recs # return your recommendations for this user_id    "
   ]
  },
  {
   "cell_type": "code",
   "execution_count": null,
   "metadata": {
    "collapsed": true
   },
   "outputs": [],
   "source": [
    "# Check Results\n",
    "get_article_names(user_user_recs(1, 10)) # Return 10 recommendations for user 1"
   ]
  },
  {
   "cell_type": "code",
   "execution_count": null,
   "metadata": {
    "collapsed": true
   },
   "outputs": [],
   "source": [
    "# Test your functions here - No need to change this code - just run this cell\n",
    "assert set(get_article_names(['1024.0', '1176.0', '1305.0', '1314.0', '1422.0', '1427.0'])) == set(['using deep learning to reconstruct high-resolution audio', 'build a python app on the streaming analytics service', 'gosales transactions for naive bayes model', 'healthcare python streaming application demo', 'use r dataframes & ibm watson natural language understanding', 'use xgboost, scikit-learn & ibm watson machine learning apis']), \"Oops! Your the get_article_names function doesn't work quite how we expect.\"\n",
    "assert set(get_article_names(['1320.0', '232.0', '844.0'])) == set(['housing (2015): united states demographic measures','self-service data preparation with ibm data refinery','use the cloudant-spark connector in python notebook']), \"Oops! Your the get_article_names function doesn't work quite how we expect.\"\n",
    "assert set(get_user_articles(20)[0]) == set(['1320.0', '232.0', '844.0'])\n",
    "assert set(get_user_articles(20)[1]) == set(['housing (2015): united states demographic measures', 'self-service data preparation with ibm data refinery','use the cloudant-spark connector in python notebook'])\n",
    "assert set(get_user_articles(2)[0]) == set(['1024.0', '1176.0', '1305.0', '1314.0', '1422.0', '1427.0'])\n",
    "assert set(get_user_articles(2)[1]) == set(['using deep learning to reconstruct high-resolution audio', 'build a python app on the streaming analytics service', 'gosales transactions for naive bayes model', 'healthcare python streaming application demo', 'use r dataframes & ibm watson natural language understanding', 'use xgboost, scikit-learn & ibm watson machine learning apis'])\n",
    "print(\"If this is all you see, you passed all of our tests!  Nice job!\")"
   ]
  },
  {
   "cell_type": "markdown",
   "metadata": {},
   "source": [
    "`4.` Now we are going to improve the consistency of the **user_user_recs** function from above.  \n",
    "\n",
    "* Instead of arbitrarily choosing when we obtain users who are all the same closeness to a given user - choose the users that have the most total article interactions before choosing those with fewer article interactions.\n",
    "\n",
    "\n",
    "* Instead of arbitrarily choosing articles from the user where the number of recommended articles starts below m and ends exceeding m, choose articles with the articles with the most total interactions before choosing those with fewer total interactions. This ranking should be  what would be obtained from the **top_articles** function you wrote earlier."
   ]
  },
  {
   "cell_type": "code",
   "execution_count": null,
   "metadata": {
    "collapsed": true
   },
   "outputs": [],
   "source": [
    "def get_top_sorted_users(user_id, df=df, user_item=user_item):\n",
    "    '''\n",
    "    INPUT:\n",
    "    user_id - (int)\n",
    "    df - (pandas dataframe) df as defined at the top of the notebook \n",
    "    user_item - (pandas dataframe) matrix of users by articles: \n",
    "            1's when a user has interacted with an article, 0 otherwise\n",
    "    \n",
    "            \n",
    "    OUTPUT:\n",
    "    neighbors_df - (pandas dataframe) a dataframe with:\n",
    "                    neighbor_id - is a neighbor user_id\n",
    "                    similarity - measure of the similarity of each user to the provided user_id\n",
    "                    num_interactions - the number of articles viewed by the user - if a u\n",
    "                    \n",
    "    Other Details - sort the neighbors_df by the similarity and then by number of interactions where \n",
    "                    highest of each is higher in the dataframe\n",
    "     \n",
    "    '''\n",
    "    # Your code here\n",
    "    \n",
    "    return neighbors_df # Return the dataframe specified in the doc_string\n",
    "\n",
    "\n",
    "def user_user_recs_part2(user_id, m=10):\n",
    "    '''\n",
    "    INPUT:\n",
    "    user_id - (int) a user id\n",
    "    m - (int) the number of recommendations you want for the user\n",
    "    \n",
    "    OUTPUT:\n",
    "    recs - (list) a list of recommendations for the user by article id\n",
    "    rec_names - (list) a list of recommendations for the user by article title\n",
    "    \n",
    "    Description:\n",
    "    Loops through the users based on closeness to the input user_id\n",
    "    For each user - finds articles the user hasn't seen before and provides them as recs\n",
    "    Does this until m recommendations are found\n",
    "    \n",
    "    Notes:\n",
    "    * Choose the users that have the most total article interactions \n",
    "    before choosing those with fewer article interactions.\n",
    "\n",
    "    * Choose articles with the articles with the most total interactions \n",
    "    before choosing those with fewer total interactions. \n",
    "   \n",
    "    '''\n",
    "    # Your code here\n",
    "    \n",
    "    return recs, rec_names"
   ]
  },
  {
   "cell_type": "code",
   "execution_count": null,
   "metadata": {
    "collapsed": true
   },
   "outputs": [],
   "source": [
    "# Quick spot check - don't change this code - just use it to test your functions\n",
    "rec_ids, rec_names = user_user_recs_part2(20, 10)\n",
    "print(\"The top 10 recommendations for user 20 are the following article ids:\")\n",
    "print(rec_ids)\n",
    "print()\n",
    "print(\"The top 10 recommendations for user 20 are the following article names:\")\n",
    "print(rec_names)"
   ]
  },
  {
   "cell_type": "markdown",
   "metadata": {},
   "source": [
    "`5.` Use your functions from above to correctly fill in the solutions to the dictionary below.  Then test your dictionary against the solution.  Provide the code you need to answer each following the comments below."
   ]
  },
  {
   "cell_type": "code",
   "execution_count": null,
   "metadata": {
    "collapsed": true
   },
   "outputs": [],
   "source": [
    "### Tests with a dictionary of results\n",
    "\n",
    "user1_most_sim = # Find the user that is most similar to user 1 \n",
    "user131_10th_sim = # Find the 10th most similar user to user 131"
   ]
  },
  {
   "cell_type": "code",
   "execution_count": null,
   "metadata": {
    "collapsed": true
   },
   "outputs": [],
   "source": [
    "## Dictionary Test Here\n",
    "sol_5_dict = {\n",
    "    'The user that is most similar to user 1.': user1_most_sim, \n",
    "    'The user that is the 10th most similar to user 131': user131_10th_sim,\n",
    "}\n",
    "\n",
    "t.sol_5_test(sol_5_dict)"
   ]
  },
  {
   "cell_type": "markdown",
   "metadata": {},
   "source": [
    "`6.` If we were given a new user, which of the above functions would you be able to use to make recommendations?  Explain.  Can you think of a better way we might make recommendations?  Use the cell below to explain a better method for new users."
   ]
  },
  {
   "cell_type": "markdown",
   "metadata": {},
   "source": [
    "**Provide your response here.**"
   ]
  },
  {
   "cell_type": "markdown",
   "metadata": {},
   "source": [
    "`7.` Using your existing functions, provide the top 10 recommended articles you would provide for the a new user below.  You can test your function against our thoughts to make sure we are all on the same page with how we might make a recommendation."
   ]
  },
  {
   "cell_type": "code",
   "execution_count": null,
   "metadata": {
    "collapsed": true
   },
   "outputs": [],
   "source": [
    "new_user = '0.0'\n",
    "\n",
    "# What would your recommendations be for this new user '0.0'?  As a new user, they have no observed articles.\n",
    "# Provide a list of the top 10 article ids you would give to \n",
    "new_user_recs = # Your recommendations here\n",
    "\n"
   ]
  },
  {
   "cell_type": "code",
   "execution_count": null,
   "metadata": {
    "collapsed": true
   },
   "outputs": [],
   "source": [
    "assert set(new_user_recs) == set(['1314.0','1429.0','1293.0','1427.0','1162.0','1364.0','1304.0','1170.0','1431.0','1330.0']), \"Oops!  It makes sense that in this case we would want to recommend the most popular articles, because we don't know anything about these users.\"\n",
    "\n",
    "print(\"That's right!  Nice job!\")"
   ]
  },
  {
   "cell_type": "markdown",
   "metadata": {},
   "source": [
    "### <a class=\"anchor\" id=\"Content-Recs\">Part IV: Content Based Recommendations (EXTRA - NOT REQUIRED)</a>\n",
    "\n",
    "Another method we might use to make recommendations is to perform a ranking of the highest ranked articles associated with some term.  You might consider content to be the **doc_body**, **doc_description**, or **doc_full_name**.  There isn't one way to create a content based recommendation, especially considering that each of these columns hold content related information.  \n",
    "\n",
    "`1.` Use the function body below to create a content based recommender.  Since there isn't one right answer for this recommendation tactic, no test functions are provided.  Feel free to change the function inputs if you decide you want to try a method that requires more input values.  The input values are currently set with one idea in mind that you may use to make content based recommendations.  One additional idea is that you might want to choose the most popular recommendations that meet your 'content criteria', but again, there is a lot of flexibility in how you might make these recommendations.\n",
    "\n",
    "### This part is NOT REQUIRED to pass this project.  However, you may choose to take this on as an extra way to show off your skills."
   ]
  },
  {
   "cell_type": "code",
   "execution_count": null,
   "metadata": {
    "collapsed": true
   },
   "outputs": [],
   "source": [
    "def make_content_recs():\n",
    "    '''\n",
    "    INPUT:\n",
    "    \n",
    "    OUTPUT:\n",
    "    \n",
    "    '''"
   ]
  },
  {
   "cell_type": "markdown",
   "metadata": {},
   "source": [
    "`2.` Now that you have put together your content-based recommendation system, use the cell below to write a summary explaining how your content based recommender works.  Do you see any possible improvements that could be made to your function?  Is there anything novel about your content based recommender?\n",
    "\n",
    "### This part is NOT REQUIRED to pass this project.  However, you may choose to take this on as an extra way to show off your skills."
   ]
  },
  {
   "cell_type": "markdown",
   "metadata": {},
   "source": [
    "**Write an explanation of your content based recommendation system here.**"
   ]
  },
  {
   "cell_type": "markdown",
   "metadata": {},
   "source": [
    "`3.` Use your content-recommendation system to make recommendations for the below scenarios based on the comments.  Again no tests are provided here, because there isn't one right answer that could be used to find these content based recommendations.\n",
    "\n",
    "### This part is NOT REQUIRED to pass this project.  However, you may choose to take this on as an extra way to show off your skills."
   ]
  },
  {
   "cell_type": "code",
   "execution_count": null,
   "metadata": {
    "collapsed": true
   },
   "outputs": [],
   "source": [
    "# make recommendations for a brand new user\n",
    "\n",
    "\n",
    "# make a recommendations for a user who only has interacted with article id '1427.0'\n",
    "\n"
   ]
  },
  {
   "cell_type": "markdown",
   "metadata": {},
   "source": [
    "### <a class=\"anchor\" id=\"Matrix-Fact\">Part V: Matrix Factorization</a>\n",
    "\n",
    "In this part of the notebook, you will build use matrix factorization to make article recommendations to the users on the IBM Watson Studio platform.\n",
    "\n",
    "`1.` You should have already created a **user_item** matrix above in **question 1** of **Part III** above.  This first question here will just require that you run the cells to get things set up for the rest of **Part V** of the notebook. "
   ]
  },
  {
   "cell_type": "code",
   "execution_count": null,
   "metadata": {
    "collapsed": true
   },
   "outputs": [],
   "source": [
    "# Load the matrix here\n",
    "user_item_matrix = pd.read_pickle('user_item_matrix.p')"
   ]
  },
  {
   "cell_type": "code",
   "execution_count": null,
   "metadata": {
    "collapsed": true
   },
   "outputs": [],
   "source": [
    "# quick look at the matrix\n",
    "user_item_matrix.head()"
   ]
  },
  {
   "cell_type": "markdown",
   "metadata": {},
   "source": [
    "`2.` In this situation, you can use Singular Value Decomposition from [numpy](https://docs.scipy.org/doc/numpy-1.14.0/reference/generated/numpy.linalg.svd.html) on the user-item matrix.  Use the cell to perform SVD, and explain why this is different than in the lesson."
   ]
  },
  {
   "cell_type": "code",
   "execution_count": null,
   "metadata": {
    "collapsed": true
   },
   "outputs": [],
   "source": [
    "# Perform SVD on the User-Item Matrix Here\n",
    "\n",
    "u, s, vt = # use the built in to get the three matrices"
   ]
  },
  {
   "cell_type": "markdown",
   "metadata": {},
   "source": [
    "**Provide your response here.**"
   ]
  },
  {
   "cell_type": "markdown",
   "metadata": {},
   "source": [
    "`3.` Now for the tricky part, how do we choose the number of latent features to use?  Running the below cell, you can see that as the number of latent features increases, we obtain a lower error rate on making predictions for the 1 and 0 values in the user-item matrix.  Run the cell below to get an idea of how the accuracy improves as we increase the number of latent features."
   ]
  },
  {
   "cell_type": "code",
   "execution_count": null,
   "metadata": {
    "collapsed": true
   },
   "outputs": [],
   "source": [
    "num_latent_feats = np.arange(10,700+10,20)\n",
    "sum_errs = []\n",
    "\n",
    "for k in num_latent_feats:\n",
    "    # restructure with k latent features\n",
    "    s_new, u_new, vt_new = np.diag(s[:k]), u[:, :k], vt[:k, :]\n",
    "    \n",
    "    # take dot product\n",
    "    user_item_est = np.around(np.dot(np.dot(u_new, s_new), vt_new))\n",
    "    \n",
    "    # compute error for each prediction to actual value\n",
    "    diffs = np.subtract(user_item_matrix, user_item_est)\n",
    "    \n",
    "    # total errors and keep track of them\n",
    "    err = np.sum(np.sum(np.abs(diffs)))\n",
    "    sum_errs.append(err)\n",
    "    \n",
    "    \n",
    "plt.plot(num_latent_feats, 1 - np.array(sum_errs)/df.shape[0]);\n",
    "plt.xlabel('Number of Latent Features');\n",
    "plt.ylabel('Accuracy');\n",
    "plt.title('Accuracy vs. Number of Latent Features');"
   ]
  },
  {
   "cell_type": "markdown",
   "metadata": {},
   "source": [
    "`4.` From the above, we can't really be sure how many features to use, because simply having a better way to predict the 1's and 0's of the matrix doesn't exactly give us an indication of if we are able to make good recommendations.  Instead, we might split our dataset into a training and test set of data, as shown in the cell below.  \n",
    "\n",
    "Use the code from question 3 to understand the impact on accuracy of the training and test sets of data with different numbers of latent features. Using the split below: \n",
    "\n",
    "* How many users can we make predictions for in the test set?  \n",
    "* How many users are we not able to make predictions for because of the cold start problem?\n",
    "* How many articles can we make predictions for in the test set?  \n",
    "* How many articles are we not able to make predictions for because of the cold start problem?"
   ]
  },
  {
   "cell_type": "code",
   "execution_count": null,
   "metadata": {
    "collapsed": true
   },
   "outputs": [],
   "source": [
    "df_train = df.head(40000)\n",
    "df_test = df.tail(5993)\n",
    "\n",
    "def create_test_and_train_user_item(df_train, df_test):\n",
    "    '''\n",
    "    INPUT:\n",
    "    df_train - training dataframe\n",
    "    df_test - test dataframe\n",
    "    \n",
    "    OUTPUT:\n",
    "    user_item_train - a user-item matrix of the training dataframe \n",
    "                      (unique users for each row and unique articles for each column)\n",
    "    user_item_test - a user-item matrix of the testing dataframe \n",
    "                    (unique users for each row and unique articles for each column)\n",
    "    test_idx - all of the test user ids\n",
    "    test_arts - all of the test article ids\n",
    "    \n",
    "    '''\n",
    "    # Your code here\n",
    "    \n",
    "    return user_item_train, user_item_test, test_idx, test_arts\n",
    "\n",
    "user_item_train, user_item_test, test_idx, test_arts = create_test_and_train_user_item(df_train, df_test)"
   ]
  },
  {
   "cell_type": "code",
   "execution_count": null,
   "metadata": {
    "collapsed": true
   },
   "outputs": [],
   "source": [
    "# Replace the values in the dictionary below\n",
    "a = 662 \n",
    "b = 574 \n",
    "c = 20 \n",
    "d = 0 \n",
    "\n",
    "\n",
    "sol_4_dict = {\n",
    "    'How many users can we make predictions for in the test set?': # letter here, \n",
    "    'How many users in the test set are we not able to make predictions for because of the cold start problem?': # letter here, \n",
    "    'How many articles can we make predictions for in the test set?': # letter here,\n",
    "    'How many articles in the test set are we not able to make predictions for because of the cold start problem?': # letter here\n",
    "}\n",
    "\n",
    "t.sol_4_test(sol_4_dict)"
   ]
  },
  {
   "cell_type": "markdown",
   "metadata": {},
   "source": [
    "`5.` Now use the **user_item_train** dataset from above to find U, S, and V transpose using SVD. Then find the subset of rows in the **user_item_test** dataset that you can predict using this matrix decomposition with different numbers of latent features to see how many features makes sense to keep based on the accuracy on the test data. This will require combining what was done in questions `2` - `4`.\n",
    "\n",
    "Use the cells below to explore how well SVD works towards making predictions for recommendations on the test data.  "
   ]
  },
  {
   "cell_type": "code",
   "execution_count": null,
   "metadata": {
    "collapsed": true
   },
   "outputs": [],
   "source": [
    "# fit SVD on the user_item_train matrix\n",
    "u_train, s_train, vt_train = # fit svd similar to above then use the cells below"
   ]
  },
  {
   "cell_type": "code",
   "execution_count": null,
   "metadata": {
    "collapsed": true
   },
   "outputs": [],
   "source": [
    "# Use these cells to see how well you can use the training \n",
    "# decomposition to predict on test data"
   ]
  },
  {
   "cell_type": "code",
   "execution_count": null,
   "metadata": {
    "collapsed": true
   },
   "outputs": [],
   "source": []
  },
  {
   "cell_type": "code",
   "execution_count": null,
   "metadata": {
    "collapsed": true
   },
   "outputs": [],
   "source": []
  },
  {
   "cell_type": "markdown",
   "metadata": {
    "collapsed": true
   },
   "source": [
    "`6.` Use the cell below to comment on the results you found in the previous question. Given the circumstances of your results, discuss what you might do to determine if the recommendations you make with any of the above recommendation systems are an improvement to how users currently find articles? "
   ]
  },
  {
   "cell_type": "markdown",
   "metadata": {},
   "source": [
    "**Your response here.**"
   ]
  },
  {
   "cell_type": "markdown",
   "metadata": {
    "collapsed": true
   },
   "source": [
    "<a id='conclusions'></a>\n",
    "### Extras\n",
    "Using your workbook, you could now save your recommendations for each user, develop a class to make new predictions and update your results, and make a flask app to deploy your results.  These tasks are beyond what is required for this project.  However, from what you learned in the lessons, you certainly capable of taking these tasks on to improve upon your work here!\n",
    "\n",
    "\n",
    "## Conclusion\n",
    "\n",
    "> Congratulations!  You have reached the end of the Recommendations with IBM project! \n",
    "\n",
    "> **Tip**: Once you are satisfied with your work here, check over your report to make sure that it is satisfies all the areas of the [rubric](https://review.udacity.com/#!/rubrics/2322/view). You should also probably remove all of the \"Tips\" like this one so that the presentation is as polished as possible.\n",
    "\n",
    "\n",
    "## Directions to Submit\n",
    "\n",
    "> Before you submit your project, you need to create a .html or .pdf version of this notebook in the workspace here. To do that, run the code cell below. If it worked correctly, you should get a return code of 0, and you should see the generated .html file in the workspace directory (click on the orange Jupyter icon in the upper left).\n",
    "\n",
    "> Alternatively, you can download this report as .html via the **File** > **Download as** submenu, and then manually upload it into the workspace directory by clicking on the orange Jupyter icon in the upper left, then using the Upload button.\n",
    "\n",
    "> Once you've done this, you can submit your project by clicking on the \"Submit Project\" button in the lower right here. This will create and submit a zip file with this .ipynb doc and the .html or .pdf version you created. Congratulations! "
   ]
  },
  {
   "cell_type": "code",
   "execution_count": null,
   "metadata": {
    "collapsed": true
   },
   "outputs": [],
   "source": [
    "from subprocess import call\n",
    "call(['python', '-m', 'nbconvert', 'Recommendations_with_IBM.ipynb'])"
   ]
  }
 ],
 "metadata": {
  "kernelspec": {
   "display_name": "Python 3",
   "language": "python",
   "name": "python3"
  },
  "language_info": {
   "codemirror_mode": {
    "name": "ipython",
    "version": 3
   },
   "file_extension": ".py",
   "mimetype": "text/x-python",
   "name": "python",
   "nbconvert_exporter": "python",
   "pygments_lexer": "ipython3",
   "version": "3.10.10"
  }
 },
 "nbformat": 4,
 "nbformat_minor": 2
}
